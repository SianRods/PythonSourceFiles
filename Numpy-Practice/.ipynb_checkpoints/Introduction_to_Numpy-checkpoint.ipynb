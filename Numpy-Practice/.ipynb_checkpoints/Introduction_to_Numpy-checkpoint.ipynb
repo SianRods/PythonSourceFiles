{
 "cells": [
  {
   "cell_type": "markdown",
   "metadata": {},
   "source": [
    "# Introduction to Computational Analysis using Numpy \n",
    "1. **Although Numpy is purely Array Oreinted Data Manipulation it is important before Learning pandas which mostly supports Tabular Data Manipulation**\n",
    "2. **Apart from Arrays , Numerical Python Supports Vaious other Computaional tools like fourier Tranform ,etc**"
   ]
  },
  {
   "cell_type": "code",
   "execution_count": 2,
   "metadata": {},
   "outputs": [],
   "source": [
    "# Generally Numpy is Imported using alias as py\n",
    "import numpy as np\n"
   ]
  },
  {
   "cell_type": "markdown",
   "metadata": {},
   "source": [
    "**ndarrays are used to store Homogenous Data points**"
   ]
  },
  {
   "cell_type": "code",
   "execution_count": 3,
   "metadata": {},
   "outputs": [
    {
     "name": "stdout",
     "output_type": "stream",
     "text": [
      "[[0.29029516 0.20529538 0.83984663]\n",
      " [0.64332186 0.36202151 0.27872426]\n",
      " [0.50598729 0.17360446 0.55865596]]\n",
      "<class 'numpy.ndarray'>\n"
     ]
    }
   ],
   "source": [
    "# Generating Some Random Data Using the random fucntion in Numpy of given shape \n",
    "# For the Functin rand() we have to specify the shape \n",
    "arr1= np.random.rand(3,3)\n",
    "print(arr1)\n",
    "print(type(arr1))  # It is of the type ndarray\t "
   ]
  },
  {
   "cell_type": "code",
   "execution_count": 4,
   "metadata": {},
   "outputs": [
    {
     "data": {
      "text/plain": [
       "array([[10.29029516, 10.20529538, 10.83984663],\n",
       "       [10.64332186, 10.36202151, 10.27872426],\n",
       "       [10.50598729, 10.17360446, 10.55865596]])"
      ]
     },
     "execution_count": 4,
     "metadata": {},
     "output_type": "execute_result"
    }
   ],
   "source": [
    "# Simple Arithmetic Operatins can be Directly Performed like :-\n",
    "arr1+10\n",
    "# 10 gets numerically added to all the data points in the array"
   ]
  },
  {
   "cell_type": "markdown",
   "metadata": {},
   "source": [
    "**.shape & .dtype attribute**"
   ]
  },
  {
   "cell_type": "code",
   "execution_count": 5,
   "metadata": {},
   "outputs": [
    {
     "name": "stdout",
     "output_type": "stream",
     "text": [
      "(3, 3)\n",
      "float64\n"
     ]
    }
   ],
   "source": [
    "# .shape --> Returns the shape of the array  --> Tuple \n",
    "#  .dtype --> returns the data types of the array \n",
    "print(arr1.shape)\n",
    "print(arr1.dtype)"
   ]
  },
  {
   "cell_type": "markdown",
   "metadata": {},
   "source": [
    "**Generally even if single element in the array is floating point pandas automatically converts everything to floating point as it is meant for numerical computation**"
   ]
  },
  {
   "cell_type": "markdown",
   "metadata": {},
   "source": [
    "### Comverting from inbuilt Data to ndArrays "
   ]
  },
  {
   "cell_type": "code",
   "execution_count": 6,
   "metadata": {},
   "outputs": [
    {
     "name": "stdout",
     "output_type": "stream",
     "text": [
      "[6.  7.5 8.  0.  1. ]\n",
      "(5,)\n",
      "float64\n"
     ]
    }
   ],
   "source": [
    "data1 = [6, 7.5, 8, 0, 1]\n",
    "sample_arr=np.array(data1)\n",
    "print(sample_arr)\n",
    "print(sample_arr.shape)\n",
    "print(sample_arr.dtype)"
   ]
  },
  {
   "cell_type": "markdown",
   "metadata": {},
   "source": [
    "**ndim attribute returns the dimension of mentioned ndarray**"
   ]
  },
  {
   "cell_type": "code",
   "execution_count": 7,
   "metadata": {},
   "outputs": [
    {
     "data": {
      "text/plain": [
       "1"
      ]
     },
     "execution_count": 7,
     "metadata": {},
     "output_type": "execute_result"
    }
   ],
   "source": [
    "sample_arr.ndim"
   ]
  },
  {
   "cell_type": "markdown",
   "metadata": {},
   "source": [
    "**Creating arrays using Functions**"
   ]
  },
  {
   "cell_type": "code",
   "execution_count": 8,
   "metadata": {},
   "outputs": [
    {
     "name": "stdout",
     "output_type": "stream",
     "text": [
      "[0. 0. 0. 0. 0. 0. 0. 0. 0. 0.]\n",
      "[[1. 1. 1.]\n",
      " [1. 1. 1.]\n",
      " [1. 1. 1.]]\n",
      "float64\n",
      "[[1. 1. 1.]\n",
      " [1. 1. 1.]\n",
      " [1. 1. 1.]]\n",
      "[0 1 2 3 4 5 6 7 8 9]\n"
     ]
    }
   ],
   "source": [
    "# Creating all the arrays of Zeros\n",
    "arr=np.zeros(10)\n",
    "print(arr)\n",
    "# In order to create Multidimensional Arrays we must Pass the tuple with required dimensions\n",
    "multidim_zero=np.ones((3,3))\n",
    "print(multidim_zero)\n",
    "\n",
    "# Note that all the arrays are by-default created in floasting point Format \n",
    "print(arr.dtype)\n",
    "\n",
    "# Creating Empty arrays --> Initializes array of desired size and shape \n",
    "\n",
    "# It is important to note that not always does the np.empty returns array of all zeros in some cases \n",
    "#  it may return some garbage Value too..\n",
    "empty_arr=np.empty((3,3))\n",
    "print(empty_arr)\n",
    "\n",
    "\n",
    "# arange(upperlimit) --> can be used to print the numbers between 0 to (upperlimit-1)\n",
    "print(np.arange(10))"
   ]
  },
  {
   "cell_type": "code",
   "execution_count": 9,
   "metadata": {},
   "outputs": [
    {
     "name": "stdout",
     "output_type": "stream",
     "text": [
      "[[1. 0. 0.]\n",
      " [0. 1. 0.]\n",
      " [0. 0. 1.]]\n"
     ]
    }
   ],
   "source": [
    "# Creating Identity Matrix \n",
    "iden_mat=np.identity(3)\n",
    "print(iden_mat)\n",
    "\n",
    "# Note that identity matrix is only defined for a square matrix and only the order of the \n",
    "# atrix has to be specified in this case"
   ]
  },
  {
   "cell_type": "markdown",
   "metadata": {},
   "source": [
    "### DataTypes for nd Arrays"
   ]
  },
  {
   "cell_type": "code",
   "execution_count": 16,
   "metadata": {},
   "outputs": [
    {
     "name": "stdout",
     "output_type": "stream",
     "text": [
      "[1 2 3]\n"
     ]
    }
   ],
   "source": [
    "obj1= np.array([1,2,3], dtype=int)\n",
    "# Explicitly Mentioning the Data types of the Array\n",
    "print(obj1)\n",
    "\n"
   ]
  },
  {
   "cell_type": "markdown",
   "metadata": {},
   "source": [
    "### Type Casting an Array"
   ]
  },
  {
   "cell_type": "code",
   "execution_count": 23,
   "metadata": {},
   "outputs": [
    {
     "name": "stdout",
     "output_type": "stream",
     "text": [
      "[1. 2. 3.]\n",
      "[  1.23  423.435   4.5    43.24 ]\n",
      "[  1 423   4  43]\n",
      "[  26   10 2024]\n"
     ]
    }
   ],
   "source": [
    "# \t1] Casting int to float \n",
    "obj1=obj1.astype(np.float64)\n",
    "print(obj1)\n",
    "\n",
    "#  2] Casting float to int \n",
    "# Note that in above case all the num post decimal point are removed \n",
    "\n",
    "obj2=np.array([1.23,423.435,4.5,43.24])\n",
    "print(obj2)\n",
    "obj2=obj2.astype(np.int64)\n",
    "print(obj2)\n",
    "\n",
    "#  3] Casting String representing Numbers into Numeric Form \n",
    "#  It is important to note that if casting is not possible 'ValueError' is raised\n",
    "datearr=np.array(['26','10','2024'])\n",
    "datearr=datearr.astype(np.int64)\n",
    "print(datearr)\n"
   ]
  },
  {
   "cell_type": "markdown",
   "metadata": {},
   "source": [
    "### Practising the Numpy Arrays :-"
   ]
  },
  {
   "cell_type": "code",
   "execution_count": 41,
   "metadata": {},
   "outputs": [
    {
     "name": "stdout",
     "output_type": "stream",
     "text": [
      "3\n",
      "[[[  1   2   3]\n",
      "  [  4   5   6]\n",
      "  [  7   8   9]]\n",
      "\n",
      " [[ 23  32   4]\n",
      "  [ 32 435   5]\n",
      "  [ 42  43   4]]]\n"
     ]
    }
   ],
   "source": [
    "arr_1=np.array([[[1,2,3],[4,5,6],[7,8,9]],#This Single Line represents 2 Dimensional Arrays\n",
    "\t\t\t   [[23,32,4],[32,435,5],[42,43,4]]]) \n",
    "print(arr_1.ndim)\n",
    "print(arr_1)\n",
    "# It is Important to note that while creating an array of 3 Dimensions or N-Dimensions all the squre \n",
    "# brackets should be placed properly"
   ]
  }
 ],
 "metadata": {
  "kernelspec": {
   "display_name": "Python 3",
   "language": "python",
   "name": "python3"
  },
  "language_info": {
   "codemirror_mode": {
    "name": "ipython",
    "version": 3
   },
   "file_extension": ".py",
   "mimetype": "text/x-python",
   "name": "python",
   "nbconvert_exporter": "python",
   "pygments_lexer": "ipython3",
   "version": "3.12.4"
  }
 },
 "nbformat": 4,
 "nbformat_minor": 2
}
