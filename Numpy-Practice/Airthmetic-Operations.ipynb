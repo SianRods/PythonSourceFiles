{
 "cells": [
  {
   "cell_type": "markdown",
   "metadata": {},
   "source": [
    "# Arithmetic Operations"
   ]
  },
  {
   "cell_type": "code",
   "execution_count": 2,
   "metadata": {},
   "outputs": [],
   "source": [
    "import numpy as np "
   ]
  },
  {
   "cell_type": "markdown",
   "metadata": {},
   "source": [
    "Various types of arithemtic operations can be performed on *Similar sized Array* or *By Broadcasting on Dissimilar Types*"
   ]
  },
  {
   "cell_type": "code",
   "execution_count": 5,
   "metadata": {},
   "outputs": [],
   "source": [
    "arr1 = np.array([[1,2,3],\n",
    "\t\t\t\t [4,5,6]])\n",
    "arr2 = np.array([[9,8,7],\n",
    "\t\t\t\t [1,2,3]])"
   ]
  },
  {
   "cell_type": "markdown",
   "metadata": {},
   "source": [
    "**Addition of Two Arrays**"
   ]
  },
  {
   "cell_type": "code",
   "execution_count": 8,
   "metadata": {},
   "outputs": [
    {
     "name": "stdout",
     "output_type": "stream",
     "text": [
      "[[10 10 10]\n",
      " [ 5  7  9]]\n",
      "[[-8 -6 -4]\n",
      " [ 3  3  3]]\n"
     ]
    }
   ],
   "source": [
    "arr_add=arr1+arr2\n",
    "print(arr_add)\n",
    "# Element Wise Addition is being performed here \n",
    "arr_sub=arr1-arr2\n",
    "print(arr_sub)"
   ]
  },
  {
   "cell_type": "markdown",
   "metadata": {},
   "source": [
    "**Scalar Multiplication and Not Matrix Multiplication**"
   ]
  },
  {
   "cell_type": "code",
   "execution_count": 11,
   "metadata": {},
   "outputs": [
    {
     "name": "stdout",
     "output_type": "stream",
     "text": [
      "[[ 1  4  9]\n",
      " [16 25 36]]\n",
      "[[1. 1. 1.]\n",
      " [1. 1. 1.]]\n",
      "[[ 1  4  9]\n",
      " [16 25 36]]\n"
     ]
    }
   ],
   "source": [
    "# Note that multiplying two matrices elements --> executes it element wise unlike Mathematical \n",
    "# Multiplication\n",
    "print(arr1*arr1)\n",
    "\n",
    "# Similarly Dividing it by a Matrix \n",
    "print(arr1/arr1) # Division takes Element wise \n",
    "\n",
    "print(arr1**2)"
   ]
  },
  {
   "cell_type": "markdown",
   "metadata": {},
   "source": [
    "## Using Comparison Operators on Arrays "
   ]
  },
  {
   "cell_type": "markdown",
   "metadata": {},
   "source": [
    "Such operations Returns Array of booleans while executing the desired Operation element wise "
   ]
  },
  {
   "cell_type": "code",
   "execution_count": 15,
   "metadata": {},
   "outputs": [
    {
     "name": "stdout",
     "output_type": "stream",
     "text": [
      "<class 'numpy.ndarray'>\n",
      "bool\n",
      "[[False False False]\n",
      " [ True  True  True]]\n",
      "[[ True  True  True]\n",
      " [ True  True  True]]\n",
      "[[ True  True  True]\n",
      " [False False False]]\n"
     ]
    }
   ],
   "source": [
    "arr_big=arr1>arr2\n",
    "# Note that arr_big is an nd array\n",
    "print(type(arr_big))\n",
    "print(arr_big.dtype)\n",
    "print(arr_big)\n",
    "\n",
    "# Similarly all types of Comparisons operators can be performed using the Logical Operators \n",
    "print(arr1!=arr2)\n",
    "\n",
    "print(arr1<arr2)\n",
    "\n",
    "# print()"
   ]
  },
  {
   "cell_type": "markdown",
   "metadata": {},
   "source": [
    "**Operations between Different Sized Arrays is called as Broadcasting Continued in Numpy advanced ..**"
   ]
  },
  {
   "cell_type": "markdown",
   "metadata": {},
   "source": [
    "## Basic Indexing and Slicing in case of Multi-Dimensional Arrays "
   ]
  },
  {
   "cell_type": "code",
   "execution_count": null,
   "metadata": {},
   "outputs": [],
   "source": []
  }
 ],
 "metadata": {
  "kernelspec": {
   "display_name": "Python 3",
   "language": "python",
   "name": "python3"
  },
  "language_info": {
   "codemirror_mode": {
    "name": "ipython",
    "version": 3
   },
   "file_extension": ".py",
   "mimetype": "text/x-python",
   "name": "python",
   "nbconvert_exporter": "python",
   "pygments_lexer": "ipython3",
   "version": "3.12.4"
  }
 },
 "nbformat": 4,
 "nbformat_minor": 2
}
