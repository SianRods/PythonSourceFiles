{
 "cells": [
  {
   "cell_type": "code",
   "execution_count": 1,
   "id": "98497e39",
   "metadata": {},
   "outputs": [],
   "source": [
    "import numpy as np \n",
    "import pandas as pd"
   ]
  },
  {
   "cell_type": "markdown",
   "id": "9ff856c3",
   "metadata": {},
   "source": [
    "1. Create a Pandas Series from a list of 10 random integers and calculate its mean.\n",
    "2. Create a DataFrame from a dictionary with columns 'Name', 'Age', and 'City'.\n",
    "3. Access the first 5 elements of a Pandas Series using slicing.\n",
    "4. Add a new column 'Score' to a DataFrame with values [85, 90, 78, 92].\n",
    "5. Use .iloc to access the first row of a DataFrame.\n",
    "6. Use .loc to select the rows where 'Age' is 25 in a DataFrame.\n",
    "7. Create a Series with a custom index ['a', 'b', 'c'] and access the value at index 'b'.\n",
    "8. Calculate the standard deviation of a Series containing numerical values.\n",
    "9. Create a DataFrame and drop the 'City' column using the drop method.\n",
    "10. Filter a DataFrame to show rows where 'Age' is greater than 30 using boolean indexing.\n",
    "11. Apply a lambda function to a DataFrame column to square the values.\n",
    "12. Use .iloc to select the last 3 rows of a DataFrame.\n",
    "13. Rename the 'Name' column to 'FullName' in a DataFrame and display the DataFrame.\n",
    "14. Use .loc to select rows based on a condition and specific columns.\n",
    "15. Create a DataFrame from a list of lists with columns ['A', 'B', 'C'] and calculate the mean of each column.\n",
    "16. Load the Titanic dataset from kaggle into a DataFrame and display the first 5 rows.\n",
    "17. Calculate the correlation matrix of a DataFrame with numerical columns from the Wine Quality dataset .\n",
    "18. Create a DataFrame with a 'Date' column and set it as the index, then resample the data by month.\n"
   ]
  },
  {
   "cell_type": "code",
   "execution_count": 10,
   "id": "e7675f2d",
   "metadata": {},
   "outputs": [
    {
     "name": "stdout",
     "output_type": "stream",
     "text": [
      "[2, 9, 0, 8, 4, 0, 0, 5, 0, 7]\n",
      "0    2\n",
      "1    9\n",
      "2    0\n",
      "3    8\n",
      "4    4\n",
      "5    0\n",
      "6    0\n",
      "7    5\n",
      "8    0\n",
      "9    7\n",
      "dtype: int64\n"
     ]
    }
   ],
   "source": [
    "list =[np.random.randint(10) for x in range(10)]\n",
    "print(list)\n",
    "q1=pd.Series(list)\n",
    "print(q1)"
   ]
  },
  {
   "cell_type": "code",
   "execution_count": 17,
   "id": "87b11ddc",
   "metadata": {},
   "outputs": [
    {
     "data": {
      "text/html": [
       "<div>\n",
       "<style scoped>\n",
       "    .dataframe tbody tr th:only-of-type {\n",
       "        vertical-align: middle;\n",
       "    }\n",
       "\n",
       "    .dataframe tbody tr th {\n",
       "        vertical-align: top;\n",
       "    }\n",
       "\n",
       "    .dataframe thead th {\n",
       "        text-align: right;\n",
       "    }\n",
       "</style>\n",
       "<table border=\"1\" class=\"dataframe\">\n",
       "  <thead>\n",
       "    <tr style=\"text-align: right;\">\n",
       "      <th></th>\n",
       "      <th>Name</th>\n",
       "      <th>Age</th>\n",
       "      <th>City</th>\n",
       "    </tr>\n",
       "  </thead>\n",
       "  <tbody>\n",
       "    <tr>\n",
       "      <th>0</th>\n",
       "      <td>Smayan</td>\n",
       "      <td>92</td>\n",
       "      <td>Mumbai</td>\n",
       "    </tr>\n",
       "    <tr>\n",
       "      <th>1</th>\n",
       "      <td>Vedant</td>\n",
       "      <td>43</td>\n",
       "      <td>Mumbai</td>\n",
       "    </tr>\n",
       "    <tr>\n",
       "      <th>2</th>\n",
       "      <td>Gadge</td>\n",
       "      <td>25</td>\n",
       "      <td>Mumbai</td>\n",
       "    </tr>\n",
       "    <tr>\n",
       "      <th>3</th>\n",
       "      <td>Sarthaak</td>\n",
       "      <td>66</td>\n",
       "      <td>Mumbai</td>\n",
       "    </tr>\n",
       "    <tr>\n",
       "      <th>4</th>\n",
       "      <td>Neelam</td>\n",
       "      <td>56</td>\n",
       "      <td>Mumbai</td>\n",
       "    </tr>\n",
       "  </tbody>\n",
       "</table>\n",
       "</div>"
      ],
      "text/plain": [
       "       Name  Age    City\n",
       "0    Smayan   92  Mumbai\n",
       "1    Vedant   43  Mumbai\n",
       "2     Gadge   25  Mumbai\n",
       "3  Sarthaak   66  Mumbai\n",
       "4    Neelam   56  Mumbai"
      ]
     },
     "execution_count": 17,
     "metadata": {},
     "output_type": "execute_result"
    }
   ],
   "source": [
    "sample={\n",
    "    'Name':['Smayan','Vedant','Gadge','Sarthaak','Neelam'],\n",
    "    'Age':[92,43,25,66,56],\n",
    "    'City' :['Mumbai' for x in range(5)]\n",
    "}\n",
    "\n",
    "q2_dict=pd.DataFrame(sample)\n",
    "q2_dict.head()"
   ]
  },
  {
   "cell_type": "code",
   "execution_count": 18,
   "id": "b5c66176",
   "metadata": {},
   "outputs": [
    {
     "data": {
      "text/plain": [
       "0    2\n",
       "1    9\n",
       "2    0\n",
       "3    8\n",
       "4    4\n",
       "dtype: int64"
      ]
     },
     "execution_count": 18,
     "metadata": {},
     "output_type": "execute_result"
    }
   ],
   "source": [
    "q1[:5]"
   ]
  },
  {
   "cell_type": "code",
   "execution_count": 19,
   "id": "9b3ab4d3",
   "metadata": {},
   "outputs": [
    {
     "data": {
      "text/html": [
       "<div>\n",
       "<style scoped>\n",
       "    .dataframe tbody tr th:only-of-type {\n",
       "        vertical-align: middle;\n",
       "    }\n",
       "\n",
       "    .dataframe tbody tr th {\n",
       "        vertical-align: top;\n",
       "    }\n",
       "\n",
       "    .dataframe thead th {\n",
       "        text-align: right;\n",
       "    }\n",
       "</style>\n",
       "<table border=\"1\" class=\"dataframe\">\n",
       "  <thead>\n",
       "    <tr style=\"text-align: right;\">\n",
       "      <th></th>\n",
       "      <th>Name</th>\n",
       "      <th>Age</th>\n",
       "      <th>City</th>\n",
       "      <th>Score</th>\n",
       "    </tr>\n",
       "  </thead>\n",
       "  <tbody>\n",
       "    <tr>\n",
       "      <th>0</th>\n",
       "      <td>Smayan</td>\n",
       "      <td>92</td>\n",
       "      <td>Mumbai</td>\n",
       "      <td>85</td>\n",
       "    </tr>\n",
       "    <tr>\n",
       "      <th>1</th>\n",
       "      <td>Vedant</td>\n",
       "      <td>43</td>\n",
       "      <td>Mumbai</td>\n",
       "      <td>90</td>\n",
       "    </tr>\n",
       "    <tr>\n",
       "      <th>2</th>\n",
       "      <td>Gadge</td>\n",
       "      <td>25</td>\n",
       "      <td>Mumbai</td>\n",
       "      <td>78</td>\n",
       "    </tr>\n",
       "    <tr>\n",
       "      <th>3</th>\n",
       "      <td>Sarthaak</td>\n",
       "      <td>66</td>\n",
       "      <td>Mumbai</td>\n",
       "      <td>92</td>\n",
       "    </tr>\n",
       "    <tr>\n",
       "      <th>4</th>\n",
       "      <td>Neelam</td>\n",
       "      <td>56</td>\n",
       "      <td>Mumbai</td>\n",
       "      <td>32</td>\n",
       "    </tr>\n",
       "  </tbody>\n",
       "</table>\n",
       "</div>"
      ],
      "text/plain": [
       "       Name  Age    City  Score\n",
       "0    Smayan   92  Mumbai     85\n",
       "1    Vedant   43  Mumbai     90\n",
       "2     Gadge   25  Mumbai     78\n",
       "3  Sarthaak   66  Mumbai     92\n",
       "4    Neelam   56  Mumbai     32"
      ]
     },
     "execution_count": 19,
     "metadata": {},
     "output_type": "execute_result"
    }
   ],
   "source": [
    "q2_dict['Score']= [85, 90, 78, 92,32]\n",
    "q2_dict.head()"
   ]
  },
  {
   "cell_type": "code",
   "execution_count": 20,
   "id": "d42a75ed",
   "metadata": {},
   "outputs": [
    {
     "data": {
      "text/plain": [
       "Name     Smayan\n",
       "Age          92\n",
       "City     Mumbai\n",
       "Score        85\n",
       "Name: 0, dtype: object"
      ]
     },
     "execution_count": 20,
     "metadata": {},
     "output_type": "execute_result"
    }
   ],
   "source": [
    "q2_dict.iloc[0]"
   ]
  },
  {
   "cell_type": "code",
   "execution_count": 24,
   "id": "d09361fa",
   "metadata": {},
   "outputs": [
    {
     "data": {
      "text/html": [
       "<div>\n",
       "<style scoped>\n",
       "    .dataframe tbody tr th:only-of-type {\n",
       "        vertical-align: middle;\n",
       "    }\n",
       "\n",
       "    .dataframe tbody tr th {\n",
       "        vertical-align: top;\n",
       "    }\n",
       "\n",
       "    .dataframe thead th {\n",
       "        text-align: right;\n",
       "    }\n",
       "</style>\n",
       "<table border=\"1\" class=\"dataframe\">\n",
       "  <thead>\n",
       "    <tr style=\"text-align: right;\">\n",
       "      <th></th>\n",
       "      <th>Name</th>\n",
       "      <th>Age</th>\n",
       "      <th>City</th>\n",
       "      <th>Score</th>\n",
       "    </tr>\n",
       "  </thead>\n",
       "  <tbody>\n",
       "    <tr>\n",
       "      <th>2</th>\n",
       "      <td>Gadge</td>\n",
       "      <td>25</td>\n",
       "      <td>Mumbai</td>\n",
       "      <td>78</td>\n",
       "    </tr>\n",
       "  </tbody>\n",
       "</table>\n",
       "</div>"
      ],
      "text/plain": [
       "    Name  Age    City  Score\n",
       "2  Gadge   25  Mumbai     78"
      ]
     },
     "execution_count": 24,
     "metadata": {},
     "output_type": "execute_result"
    }
   ],
   "source": [
    "q2_dict.loc[q2_dict['Age']==25]"
   ]
  },
  {
   "cell_type": "code",
   "execution_count": 26,
   "id": "5cb1c146",
   "metadata": {},
   "outputs": [
    {
     "data": {
      "text/plain": [
       "a    13\n",
       "b    24\n",
       "c    34\n",
       "dtype: int64"
      ]
     },
     "execution_count": 26,
     "metadata": {},
     "output_type": "execute_result"
    }
   ],
   "source": [
    "q3=pd.Series([13,24,34],index=['a','b','c'])\n",
    "q3.head()"
   ]
  },
  {
   "cell_type": "code",
   "execution_count": 27,
   "id": "3ae15ad8",
   "metadata": {},
   "outputs": [
    {
     "data": {
      "text/plain": [
       "24"
      ]
     },
     "execution_count": 27,
     "metadata": {},
     "output_type": "execute_result"
    }
   ],
   "source": [
    "q3.loc['b']"
   ]
  },
  {
   "cell_type": "code",
   "execution_count": 29,
   "id": "7b5bf8ed",
   "metadata": {},
   "outputs": [
    {
     "name": "stdout",
     "output_type": "stream",
     "text": [
      "Standard Deviation for the above series is : 8.576453553512405\n"
     ]
    }
   ],
   "source": [
    "print(f\"Standard Deviation for the above series is : {np.std(q3)}\")"
   ]
  },
  {
   "cell_type": "code",
   "execution_count": null,
   "id": "3bb9d128",
   "metadata": {},
   "outputs": [],
   "source": []
  }
 ],
 "metadata": {
  "kernelspec": {
   "display_name": "Python 3 (ipykernel)",
   "language": "python",
   "name": "python3"
  },
  "language_info": {
   "codemirror_mode": {
    "name": "ipython",
    "version": 3
   },
   "file_extension": ".py",
   "mimetype": "text/x-python",
   "name": "python",
   "nbconvert_exporter": "python",
   "pygments_lexer": "ipython3",
   "version": "3.11.4"
  }
 },
 "nbformat": 4,
 "nbformat_minor": 5
}
