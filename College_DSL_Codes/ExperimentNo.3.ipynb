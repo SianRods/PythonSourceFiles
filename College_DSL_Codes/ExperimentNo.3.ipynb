{
 "cells": [
  {
   "cell_type": "markdown",
   "id": "e113e1c6-093f-457b-a7fc-2797b4280f64",
   "metadata": {},
   "source": [
    "# DSL- Python Experiment No. 3 \n",
    "***NAME- SIAN RODRIGUES  ROLL NO.- D098  SAPID-60009230197 DIV- D2-2***"
   ]
  },
  {
   "cell_type": "markdown",
   "id": "15116458-bd6c-440c-9494-c42067bb57e5",
   "metadata": {},
   "source": [
    "**Question No.1  --\tCreate a list of the first 10 positive integers and print the sum of the even numbers in the list**"
   ]
  },
  {
   "cell_type": "code",
   "execution_count": null,
   "id": "b9b76305-4c91-4b8f-9b5f-daf1027cf6f2",
   "metadata": {},
   "outputs": [],
   "source": []
  },
  {
   "cell_type": "markdown",
   "id": "7a51ce05-197b-42a6-ac27-0444633bafff",
   "metadata": {},
   "source": [
    "**Question No. 2--\tGiven the tuple (10, 20, 30, 40, 50), use slicing to print a new tuple containing only the last three elements.**"
   ]
  },
  {
   "cell_type": "code",
   "execution_count": null,
   "id": "d2533677-3df2-44ff-a12a-ad857391384d",
   "metadata": {},
   "outputs": [],
   "source": []
  },
  {
   "cell_type": "markdown",
   "id": "dba1bc6e-4ad5-47cf-95f7-a926551e387f",
   "metadata": {},
   "source": [
    "**Question No 3. Create a set of the numbers {1, 2, 3, 4, 5} and compute the intersection with {4, 5, 6, 7}; print the result.**"
   ]
  },
  {
   "cell_type": "code",
   "execution_count": null,
   "id": "eed00d04-4ce2-4a65-9fc4-0a617b3183a4",
   "metadata": {},
   "outputs": [],
   "source": []
  },
  {
   "cell_type": "markdown",
   "id": "b0a29afd-0d76-4d5d-b3a6-e717290f5eed",
   "metadata": {},
   "source": [
    "4.\tDefine a dictionary with the keys 'a', 'b', and 'c' and their respective values 1, 2, and 3, then update the value for key 'b' to 10 and print the updated dictionary."
   ]
  },
  {
   "cell_type": "code",
   "execution_count": null,
   "id": "4e216d4c-4607-4795-b487-8455d23d2046",
   "metadata": {},
   "outputs": [],
   "source": []
  },
  {
   "cell_type": "markdown",
   "id": "537ec959-256a-48ac-99ae-da540395e61b",
   "metadata": {},
   "source": [
    "5.\tUsing a list comprehension, create a list of squares for the numbers from 1 to 5 and print the resulting list"
   ]
  },
  {
   "cell_type": "code",
   "execution_count": null,
   "id": "0eeac95e-caa3-422a-8670-737187cab2ba",
   "metadata": {},
   "outputs": [],
   "source": []
  },
  {
   "cell_type": "markdown",
   "id": "5bdeccdb-b09a-41c0-81ce-6149b1161280",
   "metadata": {},
   "source": [
    "6.\tCreate a tuple with elements 'cat', 'dog', and 'bird', then check and print whether 'dog' is in the tuple"
   ]
  },
  {
   "cell_type": "code",
   "execution_count": null,
   "id": "0a973c3f-ea32-4b58-805a-46de2d0ed8fb",
   "metadata": {},
   "outputs": [],
   "source": []
  },
  {
   "cell_type": "markdown",
   "id": "e86e4ff3-526a-4ab9-859c-8d6024d30619",
   "metadata": {},
   "source": [
    "7.\tGiven the list [1, 1, 2, 3, 5, 8, 13], convert it to a set and print the set’s length. 8. "
   ]
  },
  {
   "cell_type": "code",
   "execution_count": null,
   "id": "5d5bc9cc-ba25-4a6a-b38c-b62452feaf5a",
   "metadata": {},
   "outputs": [],
   "source": []
  },
  {
   "cell_type": "markdown",
   "id": "3975ea3e-124c-4a7e-ae74-a59401861b13",
   "metadata": {},
   "source": [
    "8.\tmerge them into one dictionary and print the result."
   ]
  },
  {
   "cell_type": "code",
   "execution_count": null,
   "id": "97dbace8-9a6d-4eda-a8d6-b382a7885b58",
   "metadata": {},
   "outputs": [],
   "source": []
  },
  {
   "cell_type": "markdown",
   "id": "c44b0f48-7339-4151-92fb-77d5964d12c0",
   "metadata": {},
   "source": [
    "9.\tFor the list [3, 5, 7, 3, 5, 9, 3], create a dictionary to count the occurrences of each element and print the dictionary"
   ]
  },
  {
   "cell_type": "code",
   "execution_count": null,
   "id": "4275f378-73cb-4237-9193-88cee6e45c4c",
   "metadata": {},
   "outputs": [],
   "source": []
  },
  {
   "cell_type": "markdown",
   "id": "a6a38120-ae8a-4212-a27e-e915f5e9fdad",
   "metadata": {},
   "source": [
    "10.\tDefine a tuple (1, 2, 3, 4, 5) and find the maximum and minimum values in the tuple; print both values"
   ]
  },
  {
   "cell_type": "code",
   "execution_count": null,
   "id": "fbee7499-d4d1-4c2b-9965-c3d517dac8bd",
   "metadata": {},
   "outputs": [],
   "source": []
  },
  {
   "cell_type": "markdown",
   "id": "34ed1067-4800-42f2-b250-cc6c53309c8e",
   "metadata": {},
   "source": [
    "11.\tGiven a list of integers [12, 15, 18, 20, 22, 25, 30], calculate and print the variance using the statistics module."
   ]
  },
  {
   "cell_type": "code",
   "execution_count": null,
   "id": "894d9df9-3790-4be7-a0de-888910fa443f",
   "metadata": {},
   "outputs": [],
   "source": []
  },
  {
   "cell_type": "markdown",
   "id": "eb6dac50-c99b-424f-a36f-fbd1541b7c51",
   "metadata": {},
   "source": [
    "12.\tCreate a dictionary where keys are product names and values are their sales numbers; calculate and print the total sales across all products."
   ]
  },
  {
   "cell_type": "code",
   "execution_count": null,
   "id": "20b81a8b-266b-4472-91d5-370ed339fdac",
   "metadata": {},
   "outputs": [],
   "source": []
  },
  {
   "cell_type": "markdown",
   "id": "bc56a65e-ce9d-46cd-a68f-09c39395afc3",
   "metadata": {},
   "source": [
    "13.\tFrom a list of temperatures [22, 25, 19, 30, 28, 32, 26], find and print the highest and lowest temperatures using the max () and min() functions."
   ]
  },
  {
   "cell_type": "code",
   "execution_count": null,
   "id": "526ba2d5-1d12-4039-a013-092c3657c83b",
   "metadata": {},
   "outputs": [],
   "source": []
  },
  {
   "cell_type": "markdown",
   "id": "e9b35c76-95d5-4b2a-967b-2fcda07d15a3",
   "metadata": {},
   "source": [
    "14.\tCreate a list of tuples representing student scores [(90, 'Alice'), (85, 'Bob'), (88, 'Charlie')] and print the name of the student with the highest score."
   ]
  },
  {
   "cell_type": "code",
   "execution_count": null,
   "id": "3dbd21a8-a247-4028-8a54-c3d524212d3f",
   "metadata": {},
   "outputs": [],
   "source": []
  },
  {
   "cell_type": "markdown",
   "id": "8eb92c7f-e899-4526-bce4-b0cb6413bb56",
   "metadata": {},
   "source": [
    "15.\tGiven a list of numbers [2, 4, 6, 8, 10], compute and print the cumulative sum of the list using a loop."
   ]
  },
  {
   "cell_type": "code",
   "execution_count": null,
   "id": "6b7d93c7-97ef-42c8-9757-70f7ae6c5365",
   "metadata": {},
   "outputs": [],
   "source": []
  },
  {
   "cell_type": "markdown",
   "id": "031a6372-7745-42a4-bb27-48fc85bcb64a",
   "metadata": {},
   "source": [
    "16.\tCreate a list of squares for numbers 1 through 10 using a list comprehension"
   ]
  },
  {
   "cell_type": "code",
   "execution_count": null,
   "id": "8fb0ed7d-25aa-4793-892a-9e86815d6763",
   "metadata": {},
   "outputs": [],
   "source": []
  },
  {
   "cell_type": "markdown",
   "id": "81854c75-7d89-4a5b-9c32-6a7bb8b69406",
   "metadata": {},
   "source": [
    "17.\tCreate a list that replaces every number divisible by 3 with \"Fizz\", every number divisible by 5 with \"Buzz\", and numbers divisible by both with \"FizzBuzz\", for numbers 1 through 15."
   ]
  },
  {
   "cell_type": "code",
   "execution_count": null,
   "id": "400e8dc1-75f5-4a74-b6ac-0726f6a399eb",
   "metadata": {},
   "outputs": [],
   "source": []
  },
  {
   "cell_type": "markdown",
   "id": "80323960-2337-4ee5-be65-9a43dab42862",
   "metadata": {},
   "source": [
    "18.\tCreate a list of numbers from 1 to 100 that are divisible by both 2 and 5."
   ]
  },
  {
   "cell_type": "code",
   "execution_count": null,
   "id": "1ce8f54f-df2b-4135-8118-7cae13f5393c",
   "metadata": {},
   "outputs": [],
   "source": []
  },
  {
   "cell_type": "markdown",
   "id": "cb7b6c4e-bc57-47d8-a050-46d724cd79d2",
   "metadata": {},
   "source": [
    "19.\tWrite a program that takes a dictionary where each value is a list and converts it into a dictionary where each value is a set containing the unique elements from the original list."
   ]
  },
  {
   "cell_type": "code",
   "execution_count": null,
   "id": "507110ab-df08-4019-9e5f-ae41dc692d03",
   "metadata": {},
   "outputs": [],
   "source": []
  },
  {
   "cell_type": "markdown",
   "id": "b3dbd992-6010-4af0-8c90-b6dd657d79c4",
   "metadata": {},
   "source": [
    "20.\tWrite a program that takes two dictionaries and returns a set of keys that are present in the first dictionary but not in the second."
   ]
  },
  {
   "cell_type": "code",
   "execution_count": null,
   "id": "bd906e5e-7696-4b35-b125-b16ccfd6c525",
   "metadata": {},
   "outputs": [],
   "source": []
  },
  {
   "cell_type": "markdown",
   "id": "be475f1d-57da-4bf0-ab00-f1e733763ad2",
   "metadata": {},
   "source": [
    "21.\tWrite a function that takes two sets of tuples and returns a tuple containing three sets:\n",
    "Elements that are in both sets.\n",
    "Elements that are only in the first set.\n",
    "Elements that are only in the second set.\n"
   ]
  },
  {
   "cell_type": "code",
   "execution_count": null,
   "id": "06970654-f543-421e-84c0-e44814e6b8c8",
   "metadata": {},
   "outputs": [],
   "source": []
  },
  {
   "cell_type": "markdown",
   "id": "b4edda39-8b4a-4a60-b1f4-4df8878f32a1",
   "metadata": {},
   "source": [
    "22. Write a program that takes a list of sets and returns a single set that is the union of all the    \tsets in the list."
   ]
  },
  {
   "cell_type": "code",
   "execution_count": null,
   "id": "78772ffa-7841-4995-b3bf-42e9eebab4fd",
   "metadata": {},
   "outputs": [],
   "source": []
  },
  {
   "cell_type": "markdown",
   "id": "94b2e5c7-aef2-4f02-9b5b-0c30689f0702",
   "metadata": {},
   "source": [
    "23. Write a program that takes a list of tuples and rotates each tuple by a given number of\tpositions. For example, rotating (1, 2, 3, 4) by 2 positions would result in (3, 4, 1,2)."
   ]
  },
  {
   "cell_type": "code",
   "execution_count": null,
   "id": "07d2c8c9-841d-43c3-9a68-7b1c88dc8030",
   "metadata": {},
   "outputs": [],
   "source": []
  },
  {
   "cell_type": "markdown",
   "id": "2090bd9a-e6df-40c6-ba0c-7acc2d94b41e",
   "metadata": {},
   "source": [
    "24. Write a program that takes a list of tuples where each tuple contains integers and returns the     \t tuple with the highest sum of its elements"
   ]
  },
  {
   "cell_type": "code",
   "execution_count": null,
   "id": "ab8f8a5b-3ecb-4551-a054-d9c5c794b311",
   "metadata": {},
   "outputs": [],
   "source": []
  }
 ],
 "metadata": {
  "kernelspec": {
   "display_name": "Python 3 (ipykernel)",
   "language": "python",
   "name": "python3"
  },
  "language_info": {
   "codemirror_mode": {
    "name": "ipython",
    "version": 3
   },
   "file_extension": ".py",
   "mimetype": "text/x-python",
   "name": "python",
   "nbconvert_exporter": "python",
   "pygments_lexer": "ipython3",
   "version": "3.12.4"
  },
  "widgets": {
   "application/vnd.jupyter.widget-state+json": {
    "state": {},
    "version_major": 2,
    "version_minor": 0
   }
  }
 },
 "nbformat": 4,
 "nbformat_minor": 5
}
