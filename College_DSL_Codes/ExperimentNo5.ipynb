{
 "cells": [
  {
   "cell_type": "code",
   "execution_count": 3,
   "metadata": {},
   "outputs": [],
   "source": [
    "import re"
   ]
  },
  {
   "cell_type": "markdown",
   "metadata": {},
   "source": [
    "re.findall(A, B) | Matches all instances of an expression A in a string B and returns them in a list.\n",
    "\n",
    "re.search(A, B) | Matches the first instance of an expression A in a string B, and returns it as a re match object.\n",
    "\n",
    "re.split(A, B) | Split a string B into a list using the delimiter A.\n",
    "\n",
    "re.sub(A, B, C) | Replace A with B in the string C."
   ]
  },
  {
   "cell_type": "markdown",
   "metadata": {},
   "source": [
    "Question No. 1\n"
   ]
  },
  {
   "cell_type": "code",
   "execution_count": 7,
   "metadata": {},
   "outputs": [
    {
     "name": "stdout",
     "output_type": "stream",
     "text": [
      "['the', 'world', 'Welcome', 'of', 'Data', 'Science', 'Hello', 'to']\n"
     ]
    }
   ],
   "source": [
    "# Creting Funtion to return sorted unique list\n",
    "def uniqueList(input):\n",
    "    pattern=r\"[a-zA-Z0-9]+[^!\\s.]\"\n",
    "    sortedUniq=re.findall(pattern,input)\n",
    "    sortedUniq=set(sortedUniq)\n",
    "    return list(sortedUniq)\n",
    "\n",
    "input=\"Hello world! Welcome to the world of Data Science.\"\n",
    "print(uniqueList(input))\n"
   ]
  },
  {
   "cell_type": "markdown",
   "metadata": {},
   "source": [
    " Question No.2 "
   ]
  },
  {
   "cell_type": "code",
   "execution_count": 16,
   "metadata": {},
   "outputs": [
    {
     "ename": "SyntaxError",
     "evalue": "invalid syntax (1328670069.py, line 8)",
     "output_type": "error",
     "traceback": [
      "\u001b[1;36m  Cell \u001b[1;32mIn[16], line 8\u001b[1;36m\u001b[0m\n\u001b[1;33m    countDict.=li\u001b[0m\n\u001b[1;37m              ^\u001b[0m\n\u001b[1;31mSyntaxError\u001b[0m\u001b[1;31m:\u001b[0m invalid syntax\n"
     ]
    }
   ],
   "source": [
    "# Creating a Dictionary which can store the key and values pairs as the occurence of the Strings in the input file \n",
    "text=\"Barack Obama was born in Hawaii. Google is a major tech company.\"\n",
    "\n",
    "def countNounString(text):\n",
    "    countDict={}\n",
    "    p2=r\"[A-Z]+[a-z]+\\s{1}[A-Z]+[a-z]+|[A-Z]+[a-z]+\"\n",
    "    li=re.findall(p2,text)\n",
    "    countDict.=li\n",
    "    countDict.values()=[x for x in li.count ]\n",
    "    return countDict\n"
   ]
  },
  {
   "cell_type": "markdown",
   "metadata": {},
   "source": [
    "Question No.3"
   ]
  },
  {
   "cell_type": "code",
   "execution_count": null,
   "metadata": {},
   "outputs": [],
   "source": []
  },
  {
   "cell_type": "markdown",
   "metadata": {},
   "source": []
  }
 ],
 "metadata": {
  "kernelspec": {
   "display_name": "Python 3",
   "language": "python",
   "name": "python3"
  },
  "language_info": {
   "codemirror_mode": {
    "name": "ipython",
    "version": 3
   },
   "file_extension": ".py",
   "mimetype": "text/x-python",
   "name": "python",
   "nbconvert_exporter": "python",
   "pygments_lexer": "ipython3",
   "version": "3.12.4"
  }
 },
 "nbformat": 4,
 "nbformat_minor": 2
}
