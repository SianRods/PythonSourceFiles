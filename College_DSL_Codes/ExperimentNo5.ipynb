{
 "cells": [
  {
   "cell_type": "code",
   "execution_count": 3,
   "metadata": {},
   "outputs": [],
   "source": [
    "import re"
   ]
  },
  {
   "cell_type": "markdown",
   "metadata": {},
   "source": [
    "re.findall(A, B) | Matches all instances of an expression A in a string B and returns them in a list.\n",
    "\n",
    "re.search(A, B) | Matches the first instance of an expression A in a string B, and returns it as a re match object.\n",
    "\n",
    "re.split(A, B) | Split a string B into a list using the delimiter A.\n",
    "\n",
    "re.sub(A, B, C) | Replace A with B in the string C."
   ]
  },
  {
   "cell_type": "markdown",
   "metadata": {},
   "source": [
    "Question No. 1\n"
   ]
  },
  {
   "cell_type": "code",
   "execution_count": 7,
   "metadata": {},
   "outputs": [
    {
     "name": "stdout",
     "output_type": "stream",
     "text": [
      "['the', 'world', 'Welcome', 'of', 'Data', 'Science', 'Hello', 'to']\n"
     ]
    }
   ],
   "source": [
    "# Creting Funtion to return sorted unique list\n",
    "def uniqueList(input):\n",
    "    pattern=r\"[a-zA-Z0-9]+[^!\\s.]\"\n",
    "    sortedUniq=re.findall(pattern,input)\n",
    "    sortedUniq=set(sortedUniq)\n",
    "    return list(sortedUniq)\n",
    "\n",
    "input=\"Hello world! Welcome to the world of Data Science.\"\n",
    "print(uniqueList(input))\n"
   ]
  },
  {
   "cell_type": "markdown",
   "metadata": {},
   "source": [
    " Question No.2 "
   ]
  },
  {
   "cell_type": "code",
   "execution_count": 36,
   "metadata": {},
   "outputs": [
    {
     "name": "stdout",
     "output_type": "stream",
     "text": [
      "{'Barack Obama': 1, 'Hawaii': 1, 'Google': 1}\n"
     ]
    }
   ],
   "source": [
    "# Creating a Dictionary which can store the key and values pairs as the occurence of the Strings in the input file \n",
    "text=\"Barack Obama was born in Hawaii. Google is a major tech company.\"\n",
    "\n",
    "def countNounString(text):\n",
    "    countDict={}\n",
    "    p2=r\"[A-Z]+[a-z]+\\s{1}[A-Z]+[a-z]+|[A-Z]+[a-z]+\"\n",
    "    nounValues=re.findall(p2,text)\n",
    "    countValues=[x.count(x) for x in nounValues]\n",
    "    countDict=dict(zip(nounValues,countValues))\n",
    "    return countDict\n",
    "print(countNounString(text))\n"
   ]
  },
  {
   "cell_type": "markdown",
   "metadata": {},
   "source": [
    "Question No.3 \\\n",
    "Input: \"The event is scheduled for 12/31/2024 and the deadline is 01-15-2024.\" \\\n",
    "Expected Output: ['2024-12-31', '2024-01-15'] \\\n",
    "*`sub` --> Method can be used to reformat the data into newer pattern* \\\n",
    "Here Understanding the Concept of grouping pattern using the multiple regex"
   ]
  },
  {
   "cell_type": "code",
   "execution_count": 51,
   "metadata": {},
   "outputs": [
    {
     "name": "stdout",
     "output_type": "stream",
     "text": [
      "The event is scheduled for 2024-31-12 and the deadline is 2024-15-01.\n"
     ]
    }
   ],
   "source": [
    "datetext=\"The event is scheduled for 12/31/2024 and the deadline is 01-15-2024.\"\n",
    "def correctDateFormat(datetext):\n",
    "    p3=r\"([0-9]{2})\\-([0-9]{2})\\-([0-9]{4})\"\n",
    "    datetext=re.sub(r\"[\\/]\",\"-\",datetext)\n",
    "    # Use of grouping can be done using Ragex in order to match a given pattern and refactor it's format\n",
    "    dateList=re.sub(p3,r\"\\3-\\2-\\1\",datetext)\n",
    "    return dateList\n",
    "\n",
    "print(correctDateFormat(datetext))"
   ]
  },
  {
   "cell_type": "markdown",
   "metadata": {},
   "source": [
    "Question No 4 \\\n",
    "Write a function to identify and extract key-value pairs from a structured text format \\\n",
    "(e.g., \"key1: value1; key2: value2\") and return them as a dictionary. \\\n",
    "Input: \"name: John Doe; age: 30; profession: Data Scientist\"\n",
    "Expected Output: {'name': 'John Doe', 'age': '30', 'profession': 'Data Scientist'} \\"
   ]
  },
  {
   "cell_type": "code",
   "execution_count": 34,
   "metadata": {},
   "outputs": [
    {
     "name": "stdout",
     "output_type": "stream",
     "text": [
      "{'name': 'John Doe', 'age': '30', 'profession': 'Data Scientist'}\n"
     ]
    }
   ],
   "source": [
    "def keyValuePair(data):\n",
    "    keysPattern=r\"[a-z]+[:]\"\n",
    "    valuePattern=r\"[A-Z]+[a-z]+\\s{1}[A-Z][a-z]+|[0-9]{1,}\"\n",
    "    keysList=re.findall(keysPattern,data)\n",
    "    valuesList=re.findall(valuePattern,data)\n",
    "\n",
    "    # Removing all the Semicolon Marks in KeysList using list comprehension\n",
    "    keysList=[x.replace(\":\",\"\") for x in keysList]\n",
    "    key_value=dict(zip(keysList,valuesList))\n",
    "    return key_value\n",
    "data=\"name: John Doe; age: 30; profession: Data Scientist\"\n",
    "print(keyValuePair(data))\n"
   ]
  },
  {
   "cell_type": "markdown",
   "metadata": {},
   "source": [
    "Question No.5 \\\n",
    "Define a function to extract all phone numbers from a text and format them in the \\\n",
    "(XXX) XXX-XXXX pattern, regardless of their initial format. \\\n",
    "Input: \"Contact me at 1234567890 or 987-654-3210.\" \\\n",
    "Expected Output: ['(123) 456-7890', '(987) 654-3210'] "
   ]
  },
  {
   "cell_type": "markdown",
   "metadata": {},
   "source": [
    "pattern for reformatting --> ([0-9]{3})([0-9]{3})([0-9]{4})\n"
   ]
  },
  {
   "cell_type": "code",
   "execution_count": 56,
   "metadata": {},
   "outputs": [
    {
     "name": "stdout",
     "output_type": "stream",
     "text": [
      "Contact me at (123)456-7890 or (987)654-3210.\n"
     ]
    }
   ],
   "source": [
    "phoneData=\"Contact me at 1234567890 or 987-654-3210.\"\n",
    "\n",
    "def numberExtraction(phoneData):\n",
    "    p5=r\"([0-9]{3})([0-9]{3})([0-9]{4})\"\n",
    "    phoneData=re.sub(p5,r\"(\\1)\\2-\\3\",phoneData)\n",
    "    phoneData=re.sub(r\"([0-9]{3})\\-([0-9]{3})\\-([0-9]{4})\",r\"(\\1)\\2-\\3\",phoneData)\n",
    "    return phoneData\n",
    "print(numberExtraction(phoneData))\n",
    "    "
   ]
  },
  {
   "cell_type": "markdown",
   "metadata": {},
   "source": [
    "Quesiton No.6 \\\n",
    "Create a function that detects and extracts all currency amounts from a text and \\\n",
    "converts them to a standardized numeric format (e.g., \"$1,234.56\" to 1234.56). \\\n",
    "Input: \"The price is $1,234.56 and $789.00 for the additional items.\" \\\n",
    "Expected Output: [1234.56, 789.00] "
   ]
  },
  {
   "cell_type": "markdown",
   "metadata": {},
   "source": [
    "for 789.00 dollar --> \"(\\$)([0-9])+([\\.]+[0-9]+)\"gm \\\n",
    "for 1234.56 dollars --> \"(\\$)([0-9]{1,3})[\\,]([0-9]+)([\\.]+[0-9]+)\""
   ]
  },
  {
   "cell_type": "code",
   "execution_count": 58,
   "metadata": {},
   "outputs": [
    {
     "name": "stdout",
     "output_type": "stream",
     "text": [
      "The price is 1234.56 and 789.00 for the additional items\n"
     ]
    }
   ],
   "source": [
    "moneyText=\"The price is $1,234.56 and $789.00 for the additional items\"\n",
    "\n",
    "def moneyFormatter(moneyText):\n",
    "    moneyText=re.sub(r\"(\\$)([0-9]+)([\\.]+[0-9]+)\",r\"\\2\\3\",moneyText)\n",
    "    moneyText=re.sub(r\"(\\$)([0-9]{1,3})[\\,]([0-9]+)([\\.]+[0-9]+)\",r\"\\2\\3\\4\",moneyText)\n",
    "    return moneyText\n",
    "print(moneyFormatter(moneyText))"
   ]
  },
  {
   "cell_type": "markdown",
   "metadata": {},
   "source": [
    "Question No.7\n",
    "Write a function to identify and extract all instances of email addresses that are part of \n",
    "specific domains (e.g., @example.com) from a given text. \n",
    "Input: \"Please contact us at support@example.com or sales@otherdomain.com.\""
   ]
  },
  {
   "cell_type": "markdown",
   "metadata": {},
   "source": [
    "Expression for regex :- \"[a-zA-Z0-9]+\\@[a-z]+\\.[a-z]{2,3}\""
   ]
  },
  {
   "cell_type": "code",
   "execution_count": 60,
   "metadata": {},
   "outputs": [
    {
     "name": "stdout",
     "output_type": "stream",
     "text": [
      "['support@example.com', 'sales@otherdomain.com']\n"
     ]
    }
   ],
   "source": [
    "emailText=\"Please contact us at support@example.com or sales@otherdomain.com.\"\n",
    "def emailExtracter(emailText):\n",
    "    emailList=re.findall(r\"[a-zA-Z0-9]+\\@[a-z]+\\.[a-z]{2,3}\",emailText)\n",
    "    return emailList\n",
    "print(emailExtracter(emailText))"
   ]
  },
  {
   "cell_type": "code",
   "execution_count": null,
   "metadata": {},
   "outputs": [],
   "source": []
  }
 ],
 "metadata": {
  "kernelspec": {
   "display_name": "Python 3",
   "language": "python",
   "name": "python3"
  },
  "language_info": {
   "codemirror_mode": {
    "name": "ipython",
    "version": 3
   },
   "file_extension": ".py",
   "mimetype": "text/x-python",
   "name": "python",
   "nbconvert_exporter": "python",
   "pygments_lexer": "ipython3",
   "version": "3.12.4"
  }
 },
 "nbformat": 4,
 "nbformat_minor": 2
}
