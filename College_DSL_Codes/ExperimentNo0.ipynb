{
 "cells": [
  {
   "cell_type": "markdown",
   "id": "acbcdf9e",
   "metadata": {},
   "source": [
    "### DO098 SIAN RODIGUES SAPID:- 60009230197 PYTHON EXPERIMENT NUMBER 00"
   ]
  },
  {
   "cell_type": "markdown",
   "id": "42f7eebb-f594-453a-b938-b2e7becccd78",
   "metadata": {},
   "source": [
    "**Problem No 1**"
   ]
  },
  {
   "cell_type": "code",
   "execution_count": 1,
   "id": "a9345f90-0d8a-43c2-9b6a-e15580532ff0",
   "metadata": {},
   "outputs": [
    {
     "name": "stdout",
     "output_type": "stream",
     "text": [
      "Enter anything : Sian Rodrigues\n"
     ]
    },
    {
     "name": "stdout",
     "output_type": "stream",
     "text": [
      "<class 'str'>\n"
     ]
    }
   ],
   "source": [
    "user_input=input(\"Enter anything :\")\n",
    "print(type(user_input))"
   ]
  },
  {
   "cell_type": "markdown",
   "id": "2ad9905e-6ca7-4c99-8909-a11b5bddb95b",
   "metadata": {},
   "source": [
    "**Problem No 2**"
   ]
  },
  {
   "cell_type": "code",
   "execution_count": 2,
   "id": "03db3385-8972-452e-8bcb-af1b48b5bfdf",
   "metadata": {},
   "outputs": [
    {
     "name": "stdout",
     "output_type": "stream",
     "text": [
      "Enter Number 1:  25\n",
      "Enter Number 2 :  5\n"
     ]
    },
    {
     "name": "stdout",
     "output_type": "stream",
     "text": [
      "30\n",
      "5.0\n",
      "125\n",
      "20\n",
      "9765625\n",
      "5\n",
      "0\n"
     ]
    }
   ],
   "source": [
    "num1=int(input(\"Enter Number 1: \"))\n",
    "num2=int(input(\"Enter Number 2 : \"))\n",
    "\n",
    "print(num1+num2)\n",
    "print(num1/num2)\n",
    "print(num1*num2)\n",
    "print(num1-num2)\n",
    "print(num1**num2) #Exponent \n",
    "print(num1//num2) # Performing Floor Division\n",
    "print(num1%num2) # Using Modulus Operator "
   ]
  },
  {
   "cell_type": "markdown",
   "id": "2e200135-8ab2-4bdc-b3ba-b4dadf8d2d8c",
   "metadata": {},
   "source": [
    "**Problem Number : 3**"
   ]
  },
  {
   "cell_type": "code",
   "execution_count": 12,
   "id": "1b9d845b-0969-4b82-9bb1-5ac47c0b52a9",
   "metadata": {},
   "outputs": [
    {
     "name": "stdout",
     "output_type": "stream",
     "text": [
      "Enter Number 1:  23\n",
      "Enter Number 2 :  423\n"
     ]
    },
    {
     "name": "stdout",
     "output_type": "stream",
     "text": [
      "Num2 is greater than or equal to num1 \n",
      "Num2 is greater \n",
      "Both the numbers are not equal\n"
     ]
    }
   ],
   "source": [
    "num1=int(input(\"Enter Number 1: \"))\n",
    "num2=int(input(\"Enter Number 2 : \"))\n",
    "\n",
    "# Using all the Comparison Operators : -\n",
    "\n",
    "if(num1>=num2):\n",
    "    print(\"Num1 is greater than or equal to num2 \")\n",
    "    if(num1>num2):\n",
    "       print(\"Num1 is Greater\")\n",
    "if(num1<=num2):\n",
    "    print(\"Num2 is greater than or equal to num1 \")\n",
    "    if(num1<num2):\n",
    "        print(\"Num2 is greater \")\n",
    "if(num1==num2):\n",
    "    print(\"Both the numbers are equal\")\n",
    "if(num1!=num2):\n",
    "    print('Both the numbers are not equal')\n"
   ]
  },
  {
   "cell_type": "markdown",
   "id": "fa344399-f8bf-4d25-9541-25c1cd6000c2",
   "metadata": {},
   "source": [
    "**Problem Number : - 4**"
   ]
  },
  {
   "cell_type": "code",
   "execution_count": 14,
   "id": "10b64b67-2b2e-4416-852a-f21efa887099",
   "metadata": {},
   "outputs": [
    {
     "name": "stdout",
     "output_type": "stream",
     "text": [
      "Enter Number 1:  1\n",
      "Enter Number 2 :  2\n",
      "Enter Number 3 :  3\n"
     ]
    },
    {
     "name": "stdout",
     "output_type": "stream",
     "text": [
      "The average of three numbers is 2.0\n"
     ]
    }
   ],
   "source": [
    "num1=float(input(\"Enter Number 1: \"))\n",
    "num2=float(input(\"Enter Number 2 : \"))\n",
    "num3=float(input(\"Enter Number 3 : \"))\n",
    "\n",
    "print(f\"The average of three numbers is {(num1+num2+num3)/3}\")"
   ]
  },
  {
   "cell_type": "markdown",
   "id": "d951a3d5-7d04-4f6e-9562-da15819e1952",
   "metadata": {},
   "source": [
    "**Problem Number :-5**"
   ]
  },
  {
   "cell_type": "code",
   "execution_count": 15,
   "id": "b5e3f8e1-257e-4ab2-8389-a7c49ee736c7",
   "metadata": {},
   "outputs": [
    {
     "name": "stdout",
     "output_type": "stream",
     "text": [
      "Enter the Principal Amount: 129999\n",
      "Enter the Rate of Interest in Percentage: 2.45\n",
      "Enter the Time Period in Years: 2.5\n"
     ]
    },
    {
     "name": "stdout",
     "output_type": "stream",
     "text": [
      "The simple interest for entered period of time is :  7962.43875\n"
     ]
    }
   ],
   "source": [
    "principal_amt=float(input(\"Enter the Principal Amount:\"))\n",
    "rateof_interest=float(input(\"Enter the Rate of Interest in Percentage:\"))\n",
    "time_period_yrs=float(input(\"Enter the Time Period in Years:\"))\n",
    "\n",
    "si_rate=(time_period_yrs*rateof_interest*principal_amt)/100\n",
    "print(\"The simple interest for entered period of time is : \",si_rate)\n",
    "\n"
   ]
  }
 ],
 "metadata": {
  "kernelspec": {
   "display_name": "Python 3 (ipykernel)",
   "language": "python",
   "name": "python3"
  },
  "language_info": {
   "codemirror_mode": {
    "name": "ipython",
    "version": 3
   },
   "file_extension": ".py",
   "mimetype": "text/x-python",
   "name": "python",
   "nbconvert_exporter": "python",
   "pygments_lexer": "ipython3",
   "version": "3.12.4"
  },
  "widgets": {
   "application/vnd.jupyter.widget-state+json": {
    "state": {},
    "version_major": 2,
    "version_minor": 0
   }
  }
 },
 "nbformat": 4,
 "nbformat_minor": 5
}
