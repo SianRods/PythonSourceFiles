{
 "cells": [
  {
   "cell_type": "markdown",
   "id": "e113e1c6-093f-457b-a7fc-2797b4280f64",
   "metadata": {},
   "source": [
    "# DSL- Python Experiment No. 3 \n",
    "***NAME- SIAN RODRIGUES  ROLL NO.- D098  SAPID-60009230197 DIV- D2-2***"
   ]
  },
  {
   "cell_type": "code",
   "execution_count": 1,
   "id": "2de9bb98",
   "metadata": {},
   "outputs": [],
   "source": [
    "import statistics as st"
   ]
  },
  {
   "cell_type": "code",
   "execution_count": null,
   "id": "d5e08e9f",
   "metadata": {},
   "outputs": [],
   "source": [
    "# Syntax of all the Data Structures :-\n",
    "# 1. Creating an Empty set --> S=set()\n",
    "# 2. creating an empty tuple --> t = ()\n"
   ]
  },
  {
   "cell_type": "markdown",
   "id": "15116458-bd6c-440c-9494-c42067bb57e5",
   "metadata": {},
   "source": [
    "**1. Create a list of the first 10 positive integers and print the sum of the even numbers in the list**"
   ]
  },
  {
   "cell_type": "code",
   "execution_count": 2,
   "id": "b9b76305-4c91-4b8f-9b5f-daf1027cf6f2",
   "metadata": {},
   "outputs": [
    {
     "name": "stdout",
     "output_type": "stream",
     "text": [
      "[1, 2, 3, 4, 5, 6, 7, 8, 9, 10]\n"
     ]
    }
   ],
   "source": [
    "num_list=[]\n",
    "for i in range(1,11):\n",
    "\tnum_list.append(i)\n",
    "print(num_list)\n",
    "# Lists are ordered, homogenoues , mutable data structures"
   ]
  },
  {
   "cell_type": "markdown",
   "id": "7a51ce05-197b-42a6-ac27-0444633bafff",
   "metadata": {},
   "source": [
    "**2. \tGiven the tuple (10, 20, 30, 40, 50), use slicing to print a new tuple containing only the last three elements.**"
   ]
  },
  {
   "cell_type": "code",
   "execution_count": 1,
   "id": "d2533677-3df2-44ff-a12a-ad857391384d",
   "metadata": {},
   "outputs": [
    {
     "name": "stdout",
     "output_type": "stream",
     "text": [
      "(30, 40, 50)\n"
     ]
    }
   ],
   "source": [
    "org_tup=(10,20,30,40,50)\n",
    "new_tup=org_tup[-3:]   # -3 to end (-1)\n",
    "print(new_tup)\n",
    "# lists are ordered, hetrogenoues,immutable data structures "
   ]
  },
  {
   "cell_type": "markdown",
   "id": "dba1bc6e-4ad5-47cf-95f7-a926551e387f",
   "metadata": {},
   "source": [
    "**3. Create a set of the numbers {1, 2, 3, 4, 5} and compute the intersection with {4, 5, 6, 7}; print the result.**"
   ]
  },
  {
   "cell_type": "code",
   "execution_count": 3,
   "id": "eed00d04-4ce2-4a65-9fc4-0a617b3183a4",
   "metadata": {},
   "outputs": [
    {
     "name": "stdout",
     "output_type": "stream",
     "text": [
      "The intersection of two sets is :  {'fe', 4, 5}\n"
     ]
    }
   ],
   "source": [
    "set1={1,2,3,4,5,\"fe\"}\n",
    "set2={4,5,6,7,\"fe\"}\n",
    "# Sets are unordered ,unique,hetrogenous  data structures \n",
    "print(\"The intersection of two sets is : \",set1.intersection(set2))"
   ]
  },
  {
   "cell_type": "markdown",
   "id": "b0a29afd-0d76-4d5d-b3a6-e717290f5eed",
   "metadata": {},
   "source": [
    "**4.\tDefine a dictionary with the keys 'a', 'b', and 'c' and their respective values 1, 2, and 3, then update the value for key 'b' to 10 and print the updated dictionary.**"
   ]
  },
  {
   "cell_type": "code",
   "execution_count": 4,
   "id": "4e216d4c-4607-4795-b487-8455d23d2046",
   "metadata": {},
   "outputs": [
    {
     "name": "stdout",
     "output_type": "stream",
     "text": [
      "The old Dictionary is :  {'a': 1, 'b': 2, 'c': 3}\n",
      "The new Dictionary is :  {'a': 1, 'b': 10, 'c': 3}\n"
     ]
    }
   ],
   "source": [
    "_mydict={\n",
    "\t'a':1,\n",
    "\t'b':2,\n",
    "\t'c':3\n",
    "}\n",
    "print(\"The old Dictionary is : \",_mydict)\n",
    "_mydict['b']=10\n",
    "print(\"The new Dictionary is : \",_mydict)"
   ]
  },
  {
   "cell_type": "markdown",
   "id": "537ec959-256a-48ac-99ae-da540395e61b",
   "metadata": {},
   "source": [
    "**5.\tUsing a list comprehension, create a list of squares for the numbers from 1 to 5 and print the resulting list**"
   ]
  },
  {
   "cell_type": "code",
   "execution_count": 5,
   "id": "0eeac95e-caa3-422a-8670-737187cab2ba",
   "metadata": {},
   "outputs": [
    {
     "name": "stdout",
     "output_type": "stream",
     "text": [
      "[1, 4, 9, 16, 25]\n"
     ]
    }
   ],
   "source": [
    "_sqrlist=[x**2 for x in range(1,6)]\n",
    "print(_sqrlist)"
   ]
  },
  {
   "cell_type": "markdown",
   "id": "5bdeccdb-b09a-41c0-81ce-6149b1161280",
   "metadata": {},
   "source": [
    "**6.\tCreate a tuple with elements 'cat', 'dog', and 'bird', then check and print whether 'dog' is in the tuple**"
   ]
  },
  {
   "cell_type": "code",
   "execution_count": 6,
   "id": "0a973c3f-ea32-4b58-805a-46de2d0ed8fb",
   "metadata": {},
   "outputs": [
    {
     "name": "stdout",
     "output_type": "stream",
     "text": [
      "The given list contains 'dog' string\n",
      "The word dog is in the tuple : True\n"
     ]
    }
   ],
   "source": [
    "anim_tup=('cat','dog','bird')\n",
    "if 'dog' in anim_tup:\n",
    "\tprint(\"The given list contains 'dog' string\")\n",
    "else:\n",
    "\tprint(\"No 'dog' string present \")\n",
    "\n",
    "print(f\"The word dog is in the tuple : {anim_tup.__contains__('dog')}\")"
   ]
  },
  {
   "cell_type": "markdown",
   "id": "e86e4ff3-526a-4ab9-859c-8d6024d30619",
   "metadata": {},
   "source": [
    "**7.\tGiven the list [1, 1, 2, 3, 5, 8, 13], convert it to a set and print the set’s length. 8.** "
   ]
  },
  {
   "cell_type": "code",
   "execution_count": 7,
   "id": "5d5bc9cc-ba25-4a6a-b38c-b62452feaf5a",
   "metadata": {},
   "outputs": [
    {
     "name": "stdout",
     "output_type": "stream",
     "text": [
      "The length of the list is : \n",
      " 7\n",
      "The length of the list is : \n",
      " 6\n"
     ]
    }
   ],
   "source": [
    "_numlist=[1,1,2,3,4,8,13]\n",
    "num_set=set(_numlist)\n",
    "print(\"The length of the list is : \\n\",len(_numlist))\n",
    "print(\"The length of the list is : \\n\",len(num_set))"
   ]
  },
  {
   "cell_type": "markdown",
   "id": "3975ea3e-124c-4a7e-ae74-a59401861b13",
   "metadata": {},
   "source": [
    "**8.\tCreate two dictionaries {'A': [1, 2], 'B': [3, 4]} and {'B': [5, 6], 'C': [7, 8]}, then merge them into one dictionary and print the result**\n"
   ]
  },
  {
   "cell_type": "code",
   "execution_count": 10,
   "id": "97dbace8-9a6d-4eda-a8d6-b382a7885b58",
   "metadata": {},
   "outputs": [
    {
     "name": "stdout",
     "output_type": "stream",
     "text": [
      "The first dictionoary is : {'A': [1, 2], 'B': [3, 4]}\n",
      "The second dictionoary is : {'B': [5, 6], 'C': [7, 8]}\n",
      "The updated dictionary is : {'A': [1, 2], 'B': [5, 6], 'C': [7, 8]}\n",
      "The second dictionary after updation is :  {'B': [5, 6], 'C': [7, 8]}\n"
     ]
    }
   ],
   "source": [
    "dict1={'A': [1, 2],\n",
    "\t    'B': [3, 4]\n",
    "}\n",
    "\n",
    "dict2={'B': [5, 6], \n",
    "\t   'C': [7, 8]}\n",
    "print(\"The first dictionoary is :\",dict1)\n",
    "print(\"The second dictionoary is :\",dict2)\n",
    "\n",
    "# Merging Both the Dict using function \n",
    "# Dictionary 1 gets updated with the values in the dictionary 2 \n",
    "dict1.update(dict2)\n",
    "# above the dictionary number 1 has been updated \n",
    "\n",
    "print(\"The updated dictionary is :\",dict1)\n",
    "print(\"The second dictionary after updation is : \",dict2)"
   ]
  },
  {
   "cell_type": "markdown",
   "id": "477e3c7d",
   "metadata": {},
   "source": [
    "Note that the `update(dict_)`  function takes input as a dictionary "
   ]
  },
  {
   "cell_type": "markdown",
   "id": "c44b0f48-7339-4151-92fb-77d5964d12c0",
   "metadata": {},
   "source": [
    "**9.\tFor the list [3, 5, 7, 3, 5, 9, 3], create a dictionary to count the occurrences of each element and print the dictionary**"
   ]
  },
  {
   "cell_type": "code",
   "execution_count": 15,
   "id": "4275f378-73cb-4237-9193-88cee6e45c4c",
   "metadata": {},
   "outputs": [
    {
     "name": "stdout",
     "output_type": "stream",
     "text": [
      "{9: 1, 3: 3, 5: 2, 7: 1}\n"
     ]
    }
   ],
   "source": [
    "# I think this can be wisely done using 'List Comprehension' or the update method of the strings\n",
    "my_list=[3,5,7,3,5,9,3]\n",
    "\n",
    "check_tup=tuple(set(my_list))\n",
    "\n",
    "count_dict={}\n",
    "for i in check_tup:\n",
    "\tcount_dict.update({i:my_list.count(i)})\n",
    "print(count_dict)"
   ]
  },
  {
   "cell_type": "markdown",
   "id": "a6a38120-ae8a-4212-a27e-e915f5e9fdad",
   "metadata": {},
   "source": [
    "**10.\tDefine a tuple (1, 2, 3, 4, 5) and find the maximum and minimum values in the tuple; print both values**"
   ]
  },
  {
   "cell_type": "code",
   "execution_count": 17,
   "id": "fbee7499-d4d1-4c2b-9965-c3d517dac8bd",
   "metadata": {},
   "outputs": [
    {
     "name": "stdout",
     "output_type": "stream",
     "text": [
      "The maximum value is  5\n",
      "The minimum value is  1\n"
     ]
    }
   ],
   "source": [
    "fiv_tup=(1, 2, 3, 4, 5)\n",
    "samp=list(fiv_tup)\n",
    "samp.sort()\n",
    "d=max(fiv_tup)\n",
    "\n",
    "print(\"The maximum value is \",d)\n",
    "\n",
    "print(\"The minimum value is \",samp[0])"
   ]
  },
  {
   "cell_type": "markdown",
   "id": "34ed1067-4800-42f2-b250-cc6c53309c8e",
   "metadata": {},
   "source": [
    "**11.\tGiven a list of integers [12, 15, 18, 20, 22, 25, 30], calculate and print the variance using the statistics module.**"
   ]
  },
  {
   "cell_type": "code",
   "execution_count": 12,
   "id": "894d9df9-3790-4be7-a0de-888910fa443f",
   "metadata": {},
   "outputs": [
    {
     "name": "stdout",
     "output_type": "stream",
     "text": [
      "The mean of the data is :  20.285714285714285\n",
      "The variance of the given data is :  36.904761904761905\n"
     ]
    }
   ],
   "source": [
    "data=[12, 15, 18, 20, 22, 25, 30]\n",
    "print(\"The mean of the data is : \",st.mean(data))\n",
    "print(\"The variance of the given data is : \",st.variance(data))"
   ]
  },
  {
   "cell_type": "markdown",
   "id": "eb6dac50-c99b-424f-a36f-fbd1541b7c51",
   "metadata": {},
   "source": [
    "**12.\tCreate a dictionary where keys are product names and values are their sales numbers; calculate and print the total sales across all products.**"
   ]
  },
  {
   "cell_type": "code",
   "execution_count": 13,
   "id": "20b81a8b-266b-4472-91d5-370ed339fdac",
   "metadata": {},
   "outputs": [
    {
     "name": "stdout",
     "output_type": "stream",
     "text": [
      "Gross Sales of all the products is : 110\n",
      "<class 'dict_values'>\n"
     ]
    }
   ],
   "source": [
    "dict_sales={\n",
    "\t'TV':24,\n",
    "\t'Mobile':64,\n",
    "\t'Fridge':10,\n",
    "\t'AC':12\n",
    "}\n",
    "\n",
    "print(\"Gross Sales of all the products is :\",sum(dict_sales.values()))\n",
    "print(type(dict_sales.values())) # Dictionary Values and Dictionary Keys are seperate data types "
   ]
  },
  {
   "cell_type": "markdown",
   "id": "bc56a65e-ce9d-46cd-a68f-09c39395afc3",
   "metadata": {},
   "source": [
    "**13.\tFrom a list of temperatures [22, 25, 19, 30, 28, 32, 26], find and print the highest and lowest temperatures using the max () and min() functions.**"
   ]
  },
  {
   "cell_type": "code",
   "execution_count": 14,
   "id": "526ba2d5-1d12-4039-a013-092c3657c83b",
   "metadata": {},
   "outputs": [
    {
     "name": "stdout",
     "output_type": "stream",
     "text": [
      "The maximum temperature is :  32\n",
      "The maximum temperature is :  19\n"
     ]
    }
   ],
   "source": [
    "temp_list=[22, 25, 19, 30, 28, 32, 26]\n",
    "print(\"The maximum temperature is : \",max(temp_list))\n",
    "print(\"The maximum temperature is : \",min(temp_list))"
   ]
  },
  {
   "cell_type": "markdown",
   "id": "e9b35c76-95d5-4b2a-967b-2fcda07d15a3",
   "metadata": {},
   "source": [
    "**14.\tCreate a list of tuples representing student scores [(90, 'Alice'), (85, 'Bob'), (88, 'Charlie')] and print the name of the student with the highest score.**"
   ]
  },
  {
   "cell_type": "code",
   "execution_count": 14,
   "id": "3dbd21a8-a247-4028-8a54-c3d524212d3f",
   "metadata": {},
   "outputs": [
    {
     "name": "stdout",
     "output_type": "stream",
     "text": [
      "Student with highest score is :  Alice and has a score of  90\n"
     ]
    }
   ],
   "source": [
    "# Tuples within lists \n",
    "tup_list=[(90, 'Alice'), (85, 'Bob'), (88, 'Charlie')]\n",
    "# Note that here is similar pattern of storing data \n",
    "maxi=max(tup_list)\n",
    "print(\"Student with highest score is : \",maxi[1],\"and has a score of \",maxi[0])"
   ]
  },
  {
   "cell_type": "markdown",
   "id": "8eb92c7f-e899-4526-bce4-b0cb6413bb56",
   "metadata": {},
   "source": [
    "**15.\tGiven a list of numbers [2, 4, 6, 8, 10], compute and print the cumulative sum of the list using a loop.**"
   ]
  },
  {
   "cell_type": "code",
   "execution_count": 16,
   "id": "6b7d93c7-97ef-42c8-9757-70f7ae6c5365",
   "metadata": {},
   "outputs": [
    {
     "name": "stdout",
     "output_type": "stream",
     "text": [
      "The Cumulative sum of the given list is : 30\n"
     ]
    }
   ],
   "source": [
    "sumlist=[2, 4, 6, 8, 10]\n",
    "sum=0\n",
    "for i in sumlist:\n",
    "\tsum+=i\n",
    "print(\"The Cumulative sum of the given list is :\",sum)"
   ]
  },
  {
   "cell_type": "markdown",
   "id": "031a6372-7745-42a4-bb27-48fc85bcb64a",
   "metadata": {},
   "source": [
    "**16.\tCreate a list of squares for numbers 1 through 10 using a list comprehension**"
   ]
  },
  {
   "cell_type": "code",
   "execution_count": 17,
   "id": "8fb0ed7d-25aa-4793-892a-9e86815d6763",
   "metadata": {},
   "outputs": [
    {
     "name": "stdout",
     "output_type": "stream",
     "text": [
      "[1, 4, 9, 16, 25, 36, 49, 64, 81, 100]\n"
     ]
    }
   ],
   "source": [
    "# Using list Comprehension\n",
    "sqr_listcomp=[x**2 for x in range(1,11)]\n",
    "print(sqr_listcomp)"
   ]
  },
  {
   "cell_type": "markdown",
   "id": "81854c75-7d89-4a5b-9c32-6a7bb8b69406",
   "metadata": {},
   "source": [
    "**17.\tCreate a list that replaces every number divisible by 3 with \"Fizz\", every number divisible by 5 with \"Buzz\", and numbers divisible by both with **\"FizzBuzz\", for numbers 1 through 15**.**"
   ]
  },
  {
   "cell_type": "code",
   "execution_count": 20,
   "id": "400e8dc1-75f5-4a74-b6ac-0726f6a399eb",
   "metadata": {},
   "outputs": [
    {
     "name": "stdout",
     "output_type": "stream",
     "text": [
      "[1, 2, 'Fizz', 4, 'Buzz', 'Fizz', 7, 8, 'Fizz', 'Buzz', 11, 'Fizz', 13, 14, 'FizzBuzz']\n"
     ]
    }
   ],
   "source": [
    "# Instead of Creating complete list and then replacing do directly \n",
    "nums=[]\n",
    "for i in range(1,16) :\n",
    "\t# Placing the main condition first is important \n",
    "\t\tif((i%3==0 and i%5==0)):\n",
    "\t\t\tnums.append('FizzBuzz')\n",
    "\t\telif(i%3==0):\n",
    "\t\t\tnums.append('Fizz')\n",
    "\t\telif(i%5==0):\n",
    "\t\t\tnums.append('Buzz')\n",
    "\t\telse:\n",
    "\t\t\tnums.append(i)\n",
    "\n",
    "print(nums)\n",
    "# nums"
   ]
  },
  {
   "cell_type": "markdown",
   "id": "80323960-2337-4ee5-be65-9a43dab42862",
   "metadata": {},
   "source": [
    "**18.\tCreate a list of numbers from 1 to 100 that are divisible by both 2 and 5.**"
   ]
  },
  {
   "cell_type": "code",
   "execution_count": 22,
   "id": "cd015c99",
   "metadata": {},
   "outputs": [
    {
     "name": "stdout",
     "output_type": "stream",
     "text": [
      "[10, 20, 30, 40, 50, 60, 70, 80, 90, 100]\n"
     ]
    }
   ],
   "source": [
    "solu=[x for x in range(1,101) if (x%2==0 and x%5==0)]\n",
    "print(solu)"
   ]
  },
  {
   "cell_type": "code",
   "execution_count": 19,
   "id": "1ce8f54f-df2b-4135-8118-7cae13f5393c",
   "metadata": {},
   "outputs": [
    {
     "name": "stdout",
     "output_type": "stream",
     "text": [
      "[10, 20, 30, 40, 50, 60, 70, 80, 90, 100]\n"
     ]
    }
   ],
   "source": [
    "li=[]\n",
    "for i in range(1,101):\n",
    "\tif(i%2==0 and i%5==0):\n",
    "\t\tli.append(i)\n",
    "print(li)\n",
    "\n",
    "# Note that List Comprehension can also be used "
   ]
  },
  {
   "cell_type": "markdown",
   "id": "cb7b6c4e-bc57-47d8-a050-46d724cd79d2",
   "metadata": {},
   "source": [
    "**19.\tWrite a program that takes a dictionary where each value is a list and converts it into a dictionary where each value is a set containing the unique elements from the original list.**"
   ]
  },
  {
   "cell_type": "code",
   "execution_count": 24,
   "id": "507110ab-df08-4019-9e5f-ae41dc692d03",
   "metadata": {},
   "outputs": [
    {
     "name": "stdout",
     "output_type": "stream",
     "text": [
      "{'a': [1, 3, 24, 3], 'b': [1, 1, 43, 5, 5], 'c': [34, 34, 43445, 53]}\n",
      "{'a': {24, 1, 3}, 'b': {1, 43, 5}, 'c': {34, 53, 43445}}\n"
     ]
    }
   ],
   "source": [
    "sampledict={\n",
    "\t'a':[1,3,24,3],'b':[1,1,43,5,5] , 'c':[34,34,43445,53]\n",
    "}\n",
    "\n",
    "print(sampledict)\n",
    "\n",
    "# print(sampledict.keys())  It is iterable mostly\n",
    "for i in sampledict.keys():\n",
    "\tsampledict[i]=set(sampledict[i])\n",
    "\n",
    "# Update method can also be used \n",
    "# for i in sampledict.keys():\n",
    "# \tsampledict.update({i:set(sampledict[i])})\n",
    "\n",
    "print(sampledict)"
   ]
  },
  {
   "cell_type": "markdown",
   "id": "b3dbd992-6010-4af0-8c90-b6dd657d79c4",
   "metadata": {},
   "source": [
    "**20.\tWrite a program that takes two dictionaries and returns a set of keys that are present in the first dictionary but not in the second.**"
   ]
  },
  {
   "cell_type": "code",
   "execution_count": 21,
   "id": "bd906e5e-7696-4b35-b125-b16ccfd6c525",
   "metadata": {},
   "outputs": [
    {
     "name": "stdout",
     "output_type": "stream",
     "text": [
      "{'c'}\n"
     ]
    }
   ],
   "source": [
    "# This can be easily done usign the set operation\n",
    "sampledict\n",
    "dict_new={'a':131,'b':242,'Lamdaf':24,'S':123}\n",
    "# We know that we cannot have duplicate keys in python \n",
    "print(set(sampledict.keys())-set(dict_new.keys()))"
   ]
  },
  {
   "cell_type": "markdown",
   "id": "be475f1d-57da-4bf0-ab00-f1e733763ad2",
   "metadata": {},
   "source": [
    "**21.Write a function that takes two sets of tuples and returns a tuple containing three sets:\n",
    "Elements that are in both sets.\n",
    "Elements that are only in the first set.\n",
    "Elements that are only in the second set**\n"
   ]
  },
  {
   "cell_type": "code",
   "execution_count": 27,
   "id": "06970654-f543-421e-84c0-e44814e6b8c8",
   "metadata": {},
   "outputs": [
    {
     "name": "stdout",
     "output_type": "stream",
     "text": [
      "(set(), {(443, 533), (132, 242), (553, 643), (343, 453)}, {(753, 843), (345, 6435), (533, 443)})\n"
     ]
    }
   ],
   "source": [
    "set1 = {(132, 242), (343, 453), (553, 643),(533,443)}\n",
    "set2 = {(533, 443), (753, 843), (345, 6435)}\n",
    "\n",
    "# Note that although it is a set inner elements are tuples and hence -->\n",
    "# (533,443) != (443,533) cause tuples are ordered\n",
    "\n",
    "# we have to return three sets by using this function\n",
    "def compareTwoSets(set1 , set2):\n",
    "    s1 = set1\n",
    "    s2 = set2\n",
    "    return (s1 & s2 , s1-s2, s2-s1)\n",
    "\n",
    "print(compareTwoSets(set1 , set2))"
   ]
  },
  {
   "cell_type": "markdown",
   "id": "b4edda39-8b4a-4a60-b1f4-4df8878f32a1",
   "metadata": {},
   "source": [
    "**22. Write a program that takes a list of sets and returns a single set that is the union of all the    \tsets in the list.**"
   ]
  },
  {
   "cell_type": "code",
   "execution_count": 23,
   "id": "78772ffa-7841-4995-b3bf-42e9eebab4fd",
   "metadata": {},
   "outputs": [
    {
     "name": "stdout",
     "output_type": "stream",
     "text": [
      "{1, 34, 3, 5, 3434, 43, 434, 23}\n"
     ]
    }
   ],
   "source": [
    "# Making List of Sets \n",
    "# {} to denote the sets () \n",
    "setlist=[{34,5,5,34,3},{23,43,1,3434,23,43,3},{3,43,43,434,3}]\n",
    "def unionSingleSet(list):\n",
    "\treturnSet=set()\n",
    "\t# Iterating throught the list to access all the sets and make their union \n",
    "\tfor i in list:\n",
    "\t\treturnSet = returnSet.union(i)\n",
    "\treturn returnSet\n",
    "\n",
    "print(unionSingleSet(setlist)) "
   ]
  },
  {
   "cell_type": "markdown",
   "id": "94b2e5c7-aef2-4f02-9b5b-0c30689f0702",
   "metadata": {},
   "source": [
    "**23. Write a program that takes a list of tuples and rotates each tuple by a given number of\tpositions. For example, rotating (1, 2, 3, 4) by 2 positions would result in (3, 4, 1,2).**"
   ]
  },
  {
   "cell_type": "code",
   "execution_count": 24,
   "id": "07d2c8c9-841d-43c3-9a68-7b1c88dc8030",
   "metadata": {},
   "outputs": [
    {
     "name": "stdout",
     "output_type": "stream",
     "text": [
      "[(1, 2, 3, 4, 5), (6, 7, 8, 9), (10, 11, 12, 13)]\n",
      "[(3, 4, 5, 1, 2), (8, 9, 6, 7), (12, 13, 10, 11)]\n"
     ]
    }
   ],
   "source": [
    "numberofpositions =0\n",
    "listTuples=[(1,2,3,4,5),(6,7,8,9),(10,11,12,13)]\n",
    "print(listTuples)\n",
    "def seqTupleRotations(tuples_list,positions):\n",
    "\tfinal_list=[list(x) for x in tuples_list]\n",
    "\tfor  i in final_list:\n",
    "\t\tfor k in range(0,positions):\n",
    "\t\t\ttemp=i[0]  # Reataining the first Element\n",
    "\t\t\tfor j in range(0,len(i)):\n",
    "\t\t\t\tif(j<(len(i)-1)):  # Till Second Last we have to rotate \n",
    "\t\t\t\t\ti[j]=i[j+1]\n",
    "\t\t\t\telse:\n",
    "\t\t\t\t\ti[j]=temp\t\t# For last one we have to append the firt elementS\n",
    "\n",
    "\treturn [tuple(x) for x in final_list]\n",
    "\n",
    "numberofpositions=int(input(\"Enter the number of positions you want to rotate : \"))\n",
    "# Entered Sample input of 2\n",
    "print(seqTupleRotations(listTuples,numberofpositions))"
   ]
  },
  {
   "cell_type": "markdown",
   "id": "2090bd9a-e6df-40c6-ba0c-7acc2d94b41e",
   "metadata": {},
   "source": [
    "**24. Write a program that takes a list of tuples where each tuple contains integers and returns the     \t tuple with the highest sum of its elements**"
   ]
  },
  {
   "cell_type": "code",
   "execution_count": 24,
   "id": "ab8f8a5b-3ecb-4551-a054-d9c5c794b311",
   "metadata": {},
   "outputs": [
    {
     "name": "stdout",
     "output_type": "stream",
     "text": [
      "The tuple with the highest sum is: (6, 7, 8, 9)\n"
     ]
    }
   ],
   "source": [
    "def tuple_with_highest_sum(tuples_list):\n",
    "    # Use the max function with a key that computes the sum of each tuple\n",
    "    # Key is an attribute \n",
    "    return max(tuples_list,key=sum)\n",
    "# If the key=sum is not specified then bydefault comparison is made by comparing each element\n",
    "\n",
    "tuples = [(1, 2, 3), (4, 5), (6, 7, 8, 9), (0, 1)]\n",
    "result = tuple_with_highest_sum(tuples)\n",
    "print(f\"The tuple with the highest sum is: {result}\")\n"
   ]
  },
  {
   "cell_type": "code",
   "execution_count": null,
   "id": "4d46fe75",
   "metadata": {},
   "outputs": [],
   "source": []
  }
 ],
 "metadata": {
  "kernelspec": {
   "display_name": "Python 3",
   "language": "python",
   "name": "python3"
  },
  "language_info": {
   "codemirror_mode": {
    "name": "ipython",
    "version": 3
   },
   "file_extension": ".py",
   "mimetype": "text/x-python",
   "name": "python",
   "nbconvert_exporter": "python",
   "pygments_lexer": "ipython3",
   "version": "3.12.4"
  },
  "widgets": {
   "application/vnd.jupyter.widget-state+json": {
    "state": {},
    "version_major": 2,
    "version_minor": 0
   }
  }
 },
 "nbformat": 4,
 "nbformat_minor": 5
}
