{
 "cells": [
  {
   "cell_type": "markdown",
   "id": "17ae6685",
   "metadata": {},
   "source": [
    "### DO098 SIAN RODIGUES SAPID:- 60009230197 PYTHON EXPERIMENT NUMBER 02"
   ]
  },
  {
   "cell_type": "markdown",
   "id": "c3354c45-fec9-4cdb-91f2-f7cb3e4fca10",
   "metadata": {},
   "source": [
    "**Problem Number :-1**"
   ]
  },
  {
   "cell_type": "code",
   "execution_count": 1,
   "id": "283c75b9-ffd7-467f-bc6e-4fe16bc31fa5",
   "metadata": {},
   "outputs": [
    {
     "name": "stdout",
     "output_type": "stream",
     "text": [
      "11\n"
     ]
    }
   ],
   "source": [
    "s=\"Hello World\"\n",
    "print(len(s))"
   ]
  },
  {
   "cell_type": "markdown",
   "id": "564dfb2b",
   "metadata": {},
   "source": [
    "**Problem No 2**"
   ]
  },
  {
   "cell_type": "code",
   "execution_count": 1,
   "id": "cbce3338-e493-450f-be18-6bbf1b332d94",
   "metadata": {},
   "outputs": [
    {
     "name": "stdout",
     "output_type": "stream",
     "text": [
      "python programming\n"
     ]
    }
   ],
   "source": [
    "str=\"Python Programming\"\n",
    "str=str.lower()\n",
    "print(str)"
   ]
  },
  {
   "cell_type": "markdown",
   "id": "77d1a1b9",
   "metadata": {},
   "source": [
    "**Problem Number 3**"
   ]
  },
  {
   "cell_type": "code",
   "execution_count": 4,
   "id": "337beb57-3261-47c5-b33e-6969ffcf51a2",
   "metadata": {},
   "outputs": [
    {
     "name": "stdout",
     "output_type": "stream",
     "text": [
      "Data Science\n"
     ]
    }
   ],
   "source": [
    "str1=\"Data\"\n",
    "str2=\"Science\"\n",
    "str1=str1 +\" \"+str2\n",
    "print(str1)"
   ]
  },
  {
   "cell_type": "markdown",
   "id": "8f7a57a8",
   "metadata": {},
   "source": [
    "**Problem Number:4**"
   ]
  },
  {
   "cell_type": "code",
   "execution_count": 5,
   "id": "8fe50905",
   "metadata": {},
   "outputs": [
    {
     "name": "stdout",
     "output_type": "stream",
     "text": [
      "DataAnalysis\n"
     ]
    }
   ],
   "source": [
    "str=\" Data Analysis \"\n",
    "str=str.replace(\" \",\"\")\n",
    "print(str)\n"
   ]
  },
  {
   "cell_type": "markdown",
   "id": "b7047369",
   "metadata": {},
   "source": [
    "**Problem Number : -5**"
   ]
  },
  {
   "cell_type": "code",
   "execution_count": 8,
   "id": "d886cb37",
   "metadata": {},
   "outputs": [
    {
     "name": "stdout",
     "output_type": "stream",
     "text": [
      "String is Palindrome\n"
     ]
    }
   ],
   "source": [
    "str1=\"level\"\n",
    "str2=str1[::-1]\n",
    "if(str1==str2):\n",
    "\tprint(\"String is Palindrome\")"
   ]
  },
  {
   "cell_type": "markdown",
   "id": "154b8596",
   "metadata": {},
   "source": [
    "**Problem Number :-6**"
   ]
  },
  {
   "cell_type": "code",
   "execution_count": 12,
   "id": "61327ff6",
   "metadata": {},
   "outputs": [
    {
     "name": "stdout",
     "output_type": "stream",
     "text": [
      "Mr\n",
      "Sian\n",
      "\n"
     ]
    }
   ],
   "source": [
    "# Printing Even Length Words in a Given Stirng \n",
    "\n",
    "str=input(\"Enter any String : \")\n",
    "\n",
    "# Splitting up the words\n",
    "# type(str.split())\n",
    "# Split Function Returns a List Type Which can be compared using len fucntion\n",
    "words=str.split(\" \")\n",
    "for i in words:\n",
    "\tif(len(i)%2==0):\n",
    "\t\tprint(i)"
   ]
  },
  {
   "cell_type": "markdown",
   "id": "70e1e348",
   "metadata": {},
   "source": [
    "**Probelm Number : -7**"
   ]
  },
  {
   "cell_type": "code",
   "execution_count": 18,
   "id": "4bde8ad2",
   "metadata": {},
   "outputs": [
    {
     "name": "stdout",
     "output_type": "stream",
     "text": [
      "Number of CVC pairs in 'hello world': 2\n",
      "Number of CVC pairs in 'cvcvcvc': 0\n",
      "Number of CVC pairs in 'avocadoo': 2\n",
      "Number of CVC pairs in 'xyzzy': 0\n"
     ]
    }
   ],
   "source": [
    "def count_cvc_pairs(string):\n",
    " \n",
    "\n",
    "  vowels = set(\"aeiouAEIOU\")\n",
    "  consonants = set(chr(i) for i in range(ord('a'), ord('z')+1)) - vowels\n",
    "\n",
    "  count = 0\n",
    "  for i in range(2, len(string)):\n",
    "    if string[i-2] in consonants and string[i-1] in vowels and string[i] in consonants:\n",
    "      count += 1\n",
    "  return count\n",
    "\n",
    "\n",
    "strings = [\"hello world\", \"cvcvcvc\", \"avocadoo\", \"xyzzy\"]\n",
    "for string in strings:\n",
    "  print(f\"Number of CVC pairs in '{string}': {count_cvc_pairs(string)}\")\n"
   ]
  },
  {
   "cell_type": "markdown",
   "id": "b62c12e1",
   "metadata": {},
   "source": [
    "**Problem Number :-8**"
   ]
  },
  {
   "cell_type": "code",
   "execution_count": 13,
   "id": "bbf601d5",
   "metadata": {},
   "outputs": [
    {
     "name": "stdout",
     "output_type": "stream",
     "text": [
      "The Reverse of the given string is : - olleH\n"
     ]
    }
   ],
   "source": [
    "str=\"Hello\"\n",
    "rev_str=str[::-1]\n",
    "print(\"The Reverse of the given string is : - \"+rev_str)"
   ]
  },
  {
   "cell_type": "markdown",
   "id": "20a8ae68",
   "metadata": {},
   "source": [
    "**Problem Number :-9**"
   ]
  },
  {
   "cell_type": "code",
   "execution_count": 16,
   "id": "7ce6147b",
   "metadata": {},
   "outputs": [
    {
     "name": "stdout",
     "output_type": "stream",
     "text": [
      "India is thee besst\n",
      "hheelloo\n",
      "aabbcc\n",
      "no duplicates\n"
     ]
    }
   ],
   "source": [
    "def remove_consecutive_chars(sentence):\n",
    "  result = \"\"\n",
    "  prev_char = None\n",
    "  count = 0\n",
    "\n",
    "  for char in sentence:\n",
    "    if char != prev_char:\n",
    "      result += char\n",
    "      prev_char = char\n",
    "      count = 1\n",
    "    elif count < 2:\n",
    "      result += char\n",
    "      count += 1\n",
    "\n",
    "  return result\n",
    "\n",
    "# Test cases\n",
    "sentences = [\"India is theeee besssst\", \"hheeellloo\", \"aabbcc\", \"no duplicates\"]\n",
    "for sentence in sentences:\n",
    "  print(remove_consecutive_chars(sentence))\n"
   ]
  },
  {
   "cell_type": "markdown",
   "id": "4631a756",
   "metadata": {},
   "source": [
    "**Problem Number 10**"
   ]
  },
  {
   "cell_type": "code",
   "execution_count": 19,
   "id": "543e93fe",
   "metadata": {},
   "outputs": [
    {
     "name": "stdout",
     "output_type": "stream",
     "text": [
      "Minimum rotations to obtain 'hello' from 'lohel': 2\n",
      "Minimum rotations to obtain 'ldwor' from 'world': 3\n",
      "Minimum rotations to obtain 'thonpy' from 'python': 2\n"
     ]
    }
   ],
   "source": [
    "def min_rotations(given_string, actual_string):\n",
    "  \n",
    "\n",
    "  if len(given_string) != len(actual_string):\n",
    "    return -1  # Invalid input\n",
    "\n",
    "  n = len(given_string)\n",
    "  combined_string = given_string + given_string\n",
    "\n",
    "  index = combined_string.find(actual_string)\n",
    "  if index == -1:\n",
    "    return -1  # Strings are not rotations of each other\n",
    "\n",
    "  return index\n",
    "\n",
    "given_strings = [\"lohel\", \"world\", \"python\"]\n",
    "actual_strings = [\"hello\", \"ldwor\", \"thonpy\"]\n",
    "for given_string, actual_string in zip(given_strings, actual_strings):\n",
    "  rotations = min_rotations(given_string, actual_string)\n",
    "  if rotations != -1:\n",
    "    print(f\"Minimum rotations to obtain '{actual_string}' from '{given_string}': {rotations}\")\n",
    "  else:\n",
    "    print(f\"'{given_string}' is not a rotation of '{actual_string}'\")\n"
   ]
  },
  {
   "cell_type": "markdown",
   "id": "d1af167a-e306-41cd-8c61-5d3f9986f0da",
   "metadata": {},
   "source": [
    "**Problem No. 11**"
   ]
  },
  {
   "cell_type": "code",
   "execution_count": 1,
   "id": "7dcc2cda-7904-4e29-abab-9c903cbe6786",
   "metadata": {},
   "outputs": [
    {
     "name": "stdout",
     "output_type": "stream",
     "text": [
      "randomstring\n"
     ]
    }
   ],
   "source": [
    "sr=\"   randomstring  \"\n",
    "print(sr.strip())"
   ]
  },
  {
   "cell_type": "markdown",
   "id": "e90759a0-7db1-4b2f-819b-6f310b781ee5",
   "metadata": {},
   "source": [
    "**Problem No.12**"
   ]
  },
  {
   "cell_type": "code",
   "execution_count": 7,
   "id": "5c2403bd-b4d7-4724-a4e6-0bf66165e1a8",
   "metadata": {},
   "outputs": [
    {
     "name": "stdout",
     "output_type": "stream",
     "text": [
      "The valid indexes are o to :  13\n"
     ]
    },
    {
     "name": "stdin",
     "output_type": "stream",
     "text": [
      "Enter start index:  1\n",
      "Enter end index:  3\n"
     ]
    },
    {
     "name": "stdout",
     "output_type": "stream",
     "text": [
      "el\n"
     ]
    }
   ],
   "source": [
    "string = \"Hello, World!\"\n",
    "print(\"The valid indexes are o to : \",len(string))\n",
    "try:\n",
    "     start_index = int(input(\"Enter start index: \"))\n",
    "     end_index = int(input(\"Enter end index: \"))\n",
    "     substring = string[start_index:end_index]\n",
    "     print(substring)\n",
    "except ValueError:\n",
    "     print('not a valid number')"
   ]
  },
  {
   "cell_type": "markdown",
   "id": "b2c5d16a-3cb6-4c39-bd9f-2fa1daa5bd99",
   "metadata": {},
   "source": [
    "**Problem No.13**"
   ]
  },
  {
   "cell_type": "code",
   "execution_count": 10,
   "id": "6e881f39-6e0d-4bc5-86f6-67f4e01c3ecb",
   "metadata": {},
   "outputs": [
    {
     "name": "stdout",
     "output_type": "stream",
     "text": [
      "5\n"
     ]
    }
   ],
   "source": [
    "str = \"Hello World this is Impossible \"\n",
    "list = str.split()\n",
    "print(len(list))"
   ]
  },
  {
   "cell_type": "markdown",
   "id": "38013c5e-1aa2-4891-8647-25460bd5d47a",
   "metadata": {},
   "source": [
    "**Problem No. 14**"
   ]
  },
  {
   "cell_type": "code",
   "execution_count": 13,
   "id": "e1cb798f-de12-4d75-b59f-6b4f6a059a01",
   "metadata": {},
   "outputs": [
    {
     "name": "stdin",
     "output_type": "stream",
     "text": [
      " Hello World this is Linus Torvalds\n"
     ]
    },
    {
     "name": "stdout",
     "output_type": "stream",
     "text": [
      "Hello World this is Linus Torvalds\n"
     ]
    },
    {
     "name": "stdin",
     "output_type": "stream",
     "text": [
      "Kindly Enter Delimeter:  #\n"
     ]
    },
    {
     "name": "stdout",
     "output_type": "stream",
     "text": [
      "Hello#World#this#is#Linus#Torvalds\n"
     ]
    }
   ],
   "source": [
    "sentence = input()\n",
    "print(sentence)\n",
    "words = sentence.split()\n",
    "delimiter = input(\"Kindly Enter Delimeter: \")\n",
    "result = delimiter.join(words)\n",
    "\n",
    "print(result)"
   ]
  },
  {
   "cell_type": "markdown",
   "id": "49975ffd-a4c3-4f19-a072-f169866fe6b9",
   "metadata": {},
   "source": [
    "**Problem No.15**"
   ]
  },
  {
   "cell_type": "code",
   "execution_count": 15,
   "id": "24019fa5-0225-4ee1-8658-86fd1a6214f9",
   "metadata": {},
   "outputs": [
    {
     "name": "stdin",
     "output_type": "stream",
     "text": [
      "Enter your name:  Sian Rodrigues\n",
      "Enter your age:  19\n",
      "Enter your city:  Vasai Virar\n"
     ]
    },
    {
     "name": "stdout",
     "output_type": "stream",
     "text": [
      "My name is Sian Rodrigues. I am 19 years old and I live in Vasai Virar.\n"
     ]
    }
   ],
   "source": [
    "name = input(\"Enter your name: \")\n",
    "age = input(\"Enter your age: \")\n",
    "city = input(\"Enter your city: \")\n",
    "sentence = f\"My name is {name}. I am {age} years old and I live in {city}.\"\n",
    "print(sentence)"
   ]
  },
  {
   "cell_type": "markdown",
   "id": "1ce48d71-5c26-4a6b-9308-ab900bcba6f3",
   "metadata": {},
   "source": [
    "**Problem No.16**"
   ]
  },
  {
   "cell_type": "code",
   "execution_count": 24,
   "id": "71f35dd3-3b56-484b-bd06-e0d18b3f2711",
   "metadata": {},
   "outputs": [
    {
     "name": "stdin",
     "output_type": "stream",
     "text": [
      "Enter a string:  hello worlddddd\n"
     ]
    },
    {
     "name": "stdout",
     "output_type": "stream",
     "text": [
      "hello worlddddd\n",
      "'d': 1\n"
     ]
    }
   ],
   "source": [
    "# Input string from the user\n",
    "string = input(\"Enter a string: \")\n",
    "print(string)\n",
    "frequency = {} # dictionary is best to handle a key and value pair\n",
    "for char in string:\n",
    "     if char in frequency:\n",
    "          frequency[char] += 1\n",
    "else:\n",
    "     frequency[char] = 1\n",
    "    \n",
    "for char, count in frequency.items():\n",
    "  print(f\"'{char}': {count}\")"
   ]
  },
  {
   "cell_type": "markdown",
   "id": "6ccef1da-3e83-4de2-9ce7-305b6fe7ae24",
   "metadata": {},
   "source": [
    "**Problem No.17**"
   ]
  },
  {
   "cell_type": "code",
   "execution_count": 21,
   "id": "dc8bf07f-6533-4cfd-ae31-422adb084a9c",
   "metadata": {},
   "outputs": [
    {
     "name": "stdin",
     "output_type": "stream",
     "text": [
      "Enter a list of words or sentence :  seriously maggie dies in walking dead\n"
     ]
    },
    {
     "name": "stdout",
     "output_type": "stream",
     "text": [
      "['seriously', 'maggie', 'dies', 'in', 'walking', 'dead']\n",
      "dead-walking-in-dies-maggie-seriously\n"
     ]
    }
   ],
   "source": [
    "words = input(\"Enter a list of words or sentence : \").split()\n",
    "print(words)\n",
    "words.reverse()\n",
    "result = \"-\".join(words)\n",
    "print(result)"
   ]
  }
 ],
 "metadata": {
  "kernelspec": {
   "display_name": "Python 3 (ipykernel)",
   "language": "python",
   "name": "python3"
  },
  "language_info": {
   "codemirror_mode": {
    "name": "ipython",
    "version": 3
   },
   "file_extension": ".py",
   "mimetype": "text/x-python",
   "name": "python",
   "nbconvert_exporter": "python",
   "pygments_lexer": "ipython3",
   "version": "3.12.4"
  },
  "widgets": {
   "application/vnd.jupyter.widget-state+json": {
    "state": {},
    "version_major": 2,
    "version_minor": 0
   }
  }
 },
 "nbformat": 4,
 "nbformat_minor": 5
}
