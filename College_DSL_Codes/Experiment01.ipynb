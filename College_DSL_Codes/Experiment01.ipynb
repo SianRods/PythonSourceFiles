{
 "cells": [
  {
   "cell_type": "markdown",
   "id": "4545b91b",
   "metadata": {},
   "source": [
    "### DO098 SIAN RODIGUES SAPID:- 60009230197 PYTHON EXPERIMENT NUMBER 01"
   ]
  },
  {
   "cell_type": "markdown",
   "id": "0efd2fb2-a0ee-4129-892c-31307c314442",
   "metadata": {},
   "source": [
    "**Problem No1 : - if else elif Loops**"
   ]
  },
  {
   "cell_type": "code",
   "execution_count": 2,
   "id": "c6d363eb-d9cf-48df-b0f6-d5b7bd3e838d",
   "metadata": {},
   "outputs": [
    {
     "name": "stdout",
     "output_type": "stream",
     "text": [
      "Number 1 : - 4\n",
      "Number 2 : - 4\n"
     ]
    },
    {
     "name": "stdout",
     "output_type": "stream",
     "text": [
      "Scam\n"
     ]
    }
   ],
   "source": [
    "num1 = int(input(\"Number 1 : -\"))\n",
    "num2 = int(input(\"Number 2 : -\"))\n",
    "\n",
    "if(num1>num2):\n",
    "    print(\"Hello\")\n",
    "elif(num2==num1):\n",
    "    print(\"Scam\")\n",
    "else:\n",
    "    print(\"Scam's COE\")"
   ]
  },
  {
   "cell_type": "markdown",
   "id": "5e220a14-b610-4fe4-800a-d88099b2d812",
   "metadata": {},
   "source": [
    "**Problem Number :-2 For Loops**"
   ]
  },
  {
   "cell_type": "code",
   "execution_count": 3,
   "id": "d5bfe7b6-c207-4738-88f8-8f8c3ee1900e",
   "metadata": {},
   "outputs": [
    {
     "name": "stdout",
     "output_type": "stream",
     "text": [
      "5\n",
      "10\n",
      "15\n",
      "20\n",
      "25\n",
      "30\n",
      "35\n",
      "40\n",
      "45\n",
      "50\n"
     ]
    }
   ],
   "source": [
    "# Printing Table \n",
    "for i in range(1,11):\n",
    "    print(i*5)"
   ]
  },
  {
   "cell_type": "markdown",
   "id": "982ae9cb-7d27-4d28-a974-6e9d54da15b2",
   "metadata": {},
   "source": [
    "**Problem Number : -3 Pattern Printing**"
   ]
  },
  {
   "cell_type": "code",
   "execution_count": 9,
   "id": "835eafb2-c597-4927-b49d-63994c932707",
   "metadata": {},
   "outputs": [
    {
     "name": "stdout",
     "output_type": "stream",
     "text": [
      "*****\n",
      "****\n",
      "***\n",
      "**\n",
      "*\n"
     ]
    }
   ],
   "source": [
    "# Pattern Number 1 \n",
    "for i in range(0,5):\n",
    "    for j in range((5-i),0,-1):\n",
    "        print(\"*\",end=\"\")\n",
    "    print(\"\")"
   ]
  },
  {
   "cell_type": "code",
   "execution_count": 12,
   "id": "861de096-e169-4c2c-82c6-ada90ce22500",
   "metadata": {},
   "outputs": [
    {
     "name": "stdout",
     "output_type": "stream",
     "text": [
      "1\n",
      "12\n",
      "123\n",
      "1234\n",
      "12345\n"
     ]
    }
   ],
   "source": [
    "# Pattern Number : 2 \n",
    "for i in range(1,6):\n",
    "    for j in range(i):\n",
    "        print(j+1,end=\"\")\n",
    "    print(\"\")"
   ]
  },
  {
   "cell_type": "code",
   "execution_count": 31,
   "id": "18cfba68-7ce4-47e2-aa8f-884f7c840a46",
   "metadata": {},
   "outputs": [
    {
     "name": "stdout",
     "output_type": "stream",
     "text": [
      "*\n",
      "**\n",
      "***\n",
      "\n",
      "*\n"
     ]
    }
   ],
   "source": [
    "# Pattern Number : 3 \n",
    "for i in range(1,6):\n",
    "    if(i<=3):\n",
    "        for j in range(i):\n",
    "            print(\"*\",end=\"\")\n",
    "        print(\"\")\n",
    "    elif(i>3):\n",
    "        for j in range(i-4,0,-1):\n",
    "            print(\"*\",end=\"\")\n",
    "        print(\"\")"
   ]
  },
  {
   "cell_type": "markdown",
   "id": "8d2174fd-4a4a-4edf-b434-2aeec75bfce8",
   "metadata": {},
   "source": [
    "**Problem Number : 5**"
   ]
  },
  {
   "cell_type": "code",
   "execution_count": 33,
   "id": "031a8a66-bffc-461c-b91d-4b68df385b14",
   "metadata": {},
   "outputs": [
    {
     "name": "stdout",
     "output_type": "stream",
     "text": [
      "Continue\n"
     ]
    }
   ],
   "source": [
    "# Dmonstration of While Loop in Python \n",
    "i =0\n",
    "while i<10:\n",
    "    i+=1\n",
    "    if(i==4):\n",
    "        print(\"Continue\")\n",
    "        continue\n",
    "    elif(i>5):\n",
    "        pass\n",
    "    elif(i==9):\n",
    "        break\n",
    "    "
   ]
  },
  {
   "cell_type": "markdown",
   "id": "255931e2-6d28-4d30-a827-2d20ea6508ed",
   "metadata": {},
   "source": [
    "**Problem Number : 6**"
   ]
  },
  {
   "cell_type": "code",
   "execution_count": 38,
   "id": "44df0499-5ce6-4d65-9c60-017003512b90",
   "metadata": {},
   "outputs": [
    {
     "name": "stdout",
     "output_type": "stream",
     "text": [
      "Enter the Number of Electricity units Consumed :  300\n"
     ]
    },
    {
     "name": "stdout",
     "output_type": "stream",
     "text": [
      "Total Bill of the Customer is :  1500.0\n"
     ]
    }
   ],
   "source": [
    "number_units=float(input(\"Enter the Number of Electricity units Consumed : \"))\n",
    "# There are three distinct Conditions over here \n",
    "bill=0.0\n",
    "if(number_units>100):\n",
    "    if(number_units>100 and number_units<=200):\n",
    "        bill=(number_units-100)*5\n",
    "    elif(number_units>200):\n",
    "        bill=(number_units-200)*10+100*5\n",
    "print(\"Total Bill of the Customer is : \",bill)\n",
    "    "
   ]
  },
  {
   "cell_type": "markdown",
   "id": "4f637d8c-aadb-4b95-ab9c-ab2162836049",
   "metadata": {},
   "source": [
    "**Problem Number :7**"
   ]
  },
  {
   "cell_type": "code",
   "execution_count": 44,
   "id": "b00a61ed-9c56-4254-b395-82a9cc34da7e",
   "metadata": {},
   "outputs": [
    {
     "name": "stdout",
     "output_type": "stream",
     "text": [
      "4 5\n"
     ]
    }
   ],
   "source": [
    "numbers = (1, 2, 3, 4, 5, 6, 7, 8, 9) \n",
    "even=0\n",
    "odd=0\n",
    "for i in range(0,9):\n",
    "    if(numbers[i]%2==0):\n",
    "        even+=1\n",
    "    elif(numbers[i]%2!=0):\n",
    "        odd+=1\n",
    "print(even,odd)"
   ]
  },
  {
   "cell_type": "markdown",
   "id": "7950838e-f040-4957-bec8-d5b3200ae43a",
   "metadata": {},
   "source": [
    "**Problem Number :8**"
   ]
  },
  {
   "cell_type": "code",
   "execution_count": 46,
   "id": "1f9e29b0-411a-4345-8e2a-57d9d539f2f5",
   "metadata": {},
   "outputs": [
    {
     "name": "stdout",
     "output_type": "stream",
     "text": [
      "1\n",
      "2\n",
      "Fizz\n",
      "4\n",
      "Buzz\n",
      "Fizz\n",
      "7\n",
      "8\n",
      "Fizz\n",
      "Buzz\n",
      "11\n",
      "Fizz\n",
      "13\n",
      "14\n",
      "Fizz\n",
      "16\n",
      "17\n",
      "Fizz\n",
      "19\n",
      "Buzz\n",
      "Fizz\n",
      "22\n",
      "23\n",
      "Fizz\n",
      "Buzz\n",
      "26\n",
      "Fizz\n",
      "28\n",
      "29\n",
      "Fizz\n",
      "31\n",
      "32\n",
      "Fizz\n",
      "34\n",
      "Buzz\n",
      "Fizz\n",
      "37\n",
      "38\n",
      "Fizz\n",
      "Buzz\n",
      "41\n",
      "Fizz\n",
      "43\n",
      "44\n",
      "Fizz\n",
      "46\n",
      "47\n",
      "Fizz\n",
      "49\n",
      "Buzz\n"
     ]
    }
   ],
   "source": [
    "for i in range(1,51):\n",
    "    if(i%3==0):\n",
    "        print(\"Fizz\")\n",
    "    elif(i%5==0):\n",
    "        print(\"Buzz\")\n",
    "    elif(i%5==0 and i%3==0):\n",
    "        print(\"FizzBuzz\")\n",
    "    else:\n",
    "        print(i)"
   ]
  },
  {
   "cell_type": "code",
   "execution_count": null,
   "id": "b3d1f2d3-c114-42c5-8d6c-004518388f91",
   "metadata": {},
   "outputs": [],
   "source": []
  }
 ],
 "metadata": {
  "kernelspec": {
   "display_name": "Python 3 (ipykernel)",
   "language": "python",
   "name": "python3"
  },
  "language_info": {
   "codemirror_mode": {
    "name": "ipython",
    "version": 3
   },
   "file_extension": ".py",
   "mimetype": "text/x-python",
   "name": "python",
   "nbconvert_exporter": "python",
   "pygments_lexer": "ipython3",
   "version": "3.12.4"
  },
  "widgets": {
   "application/vnd.jupyter.widget-state+json": {
    "state": {},
    "version_major": 2,
    "version_minor": 0
   }
  }
 },
 "nbformat": 4,
 "nbformat_minor": 5
}
