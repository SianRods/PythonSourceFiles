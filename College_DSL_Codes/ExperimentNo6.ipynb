{
 "cells": [
  {
   "cell_type": "markdown",
   "metadata": {},
   "source": [
    "# Python Experiment NO. 6 \n",
    "## ROLL NO- D098 SAP ID - 60009230197 SIAN RODRIGUES DS2-2 "
   ]
  },
  {
   "cell_type": "markdown",
   "metadata": {},
   "source": [
    "Question No.1"
   ]
  },
  {
   "cell_type": "code",
   "execution_count": 5,
   "metadata": {},
   "outputs": [],
   "source": [
    "class Vehicle:\n",
    "    pass\n",
    "\n",
    "v1= Vehicle()"
   ]
  },
  {
   "cell_type": "code",
   "execution_count": 4,
   "metadata": {},
   "outputs": [
    {
     "name": "stdout",
     "output_type": "stream",
     "text": [
      "200\n",
      "12\n"
     ]
    }
   ],
   "source": [
    "class Vehicle:\n",
    "    def __init__(self,max_speed,mileage):\n",
    "        self.max_speed=max_speed\n",
    "        self.mileage=mileage\n",
    "\n",
    "v2=Vehicle(200,12)\n",
    "print(v2.max_speed)\n",
    "print(v2.mileage)  "
   ]
  },
  {
   "cell_type": "code",
   "execution_count": 3,
   "metadata": {},
   "outputs": [
    {
     "name": "stdout",
     "output_type": "stream",
     "text": [
      "210\n"
     ]
    }
   ],
   "source": [
    "class Vehicle:\n",
    "    def __init__(self,max_speed,mileage,name):\n",
    "        self.max_speed=max_speed\n",
    "        self.mileage=mileage\n",
    "        self.name=name\n",
    "    \n",
    "class Bus(Vehicle):\n",
    "    pass\n",
    "\n",
    "b1= Bus(210,11,\"Mercedes Benz\")\n",
    "print(b1.max_speed)"
   ]
  },
  {
   "cell_type": "code",
   "execution_count": 67,
   "metadata": {},
   "outputs": [
    {
     "data": {
      "text/plain": [
       "'The seating capacity of a Bus is 50 passengers'"
      ]
     },
     "execution_count": 67,
     "metadata": {},
     "output_type": "execute_result"
    }
   ],
   "source": [
    "class Vehicle:\n",
    "    def  __init__(self, name, max_speed, mileage,capacity): \n",
    "        self.name = name\n",
    "        self.max_speed = max_speed \n",
    "        self.mileage = mileage\n",
    "        self.capacity=capacity\n",
    "    def seating_capacity(self, capacity):\n",
    "        return f\"The seating capacity of a {self.name} is {capacity} passengers\"\n",
    "    \n",
    "class Bus(Vehicle):\n",
    "    #  Declaring a Class Attribute\n",
    "     capacity=50\n",
    "     def seating_capacity(self,capacity=50):\n",
    "        return super().seating_capacity(capacity)\n",
    "        \n",
    " \n",
    "b2=Bus(\"Bus\",210,11,500)\n",
    "b2.seating_capacity()"
   ]
  },
  {
   "cell_type": "code",
   "execution_count": 68,
   "metadata": {},
   "outputs": [
    {
     "name": "stdout",
     "output_type": "stream",
     "text": [
      "THe fare for the bus is 5500.0\n",
      "<class '__main__.Bus'>\n"
     ]
    }
   ],
   "source": [
    "class Vehicle:\n",
    "    def  __init__(self, name, max_speed, mileage,capacity): \n",
    "        self.name = name\n",
    "        self.max_speed = max_speed \n",
    "        self.mileage = mileage\n",
    "        self.capacity=capacity\n",
    "\n",
    "    def fare(self):\n",
    "        return self.capacity*100\n",
    "    \n",
    "class Bus(Vehicle):\n",
    "    # Overriding the Child class method \n",
    "    def fare(self):\n",
    "        return (super().fare()*0.1)+(super().fare())        \n",
    "   \n",
    " \n",
    "b2=Bus(210,11,\"Bus\",50)\n",
    "print(f\"THe fare for the bus is {b2.fare()}\")"
   ]
  },
  {
   "cell_type": "code",
   "execution_count": 72,
   "metadata": {},
   "outputs": [
    {
     "name": "stdout",
     "output_type": "stream",
     "text": [
      "To Vehicle\n"
     ]
    }
   ],
   "source": [
    "# Checking to which class the object belongs to \n",
    "v1=Vehicle(\"Ciaz\",350,14,4)\n",
    "if(type(v1)==Bus):\n",
    "    print(\"To Bus\")\n",
    "else:\n",
    "    print(\"To Vehicle\")"
   ]
  },
  {
   "cell_type": "markdown",
   "metadata": {},
   "source": [
    "`isinstance` can be used to determine whether an object is an instance of the given class \\\n",
    "`issublcass` used to now whether a class is derived from another or is independent"
   ]
  },
  {
   "cell_type": "code",
   "execution_count": 77,
   "metadata": {},
   "outputs": [
    {
     "name": "stdout",
     "output_type": "stream",
     "text": [
      "School bus is not an instance of the Vehicle class\n",
      "Bus class is the subclass of the class Vechile\n"
     ]
    }
   ],
   "source": [
    "if isinstance(b1,Vehicle):\n",
    "    print(\"School bus is an instance of the Class Vechile\")\n",
    "else:\n",
    "    print(\"School bus is not an instance of the Vehicle class\")\n",
    "if issubclass(Bus,Vehicle):\n",
    "    print(\"Bus class is the subclass of the class Vechile\")"
   ]
  },
  {
   "cell_type": "code",
   "execution_count": 86,
   "metadata": {},
   "outputs": [
    {
     "name": "stdout",
     "output_type": "stream",
     "text": [
      "2200.0\n",
      "The price of the minibus M1 is 13000\n"
     ]
    }
   ],
   "source": [
    "class Vehicle:\n",
    "    def  __init__(self, name, max_speed, mileage,capacity): \n",
    "        self.name = name\n",
    "        self.max_speed = max_speed \n",
    "        self.mileage = mileage\n",
    "        self.capacity=capacity\n",
    "\n",
    "    def fare(self):\n",
    "        return self.capacity*100\n",
    "    \n",
    "class Bus(Vehicle):\n",
    "    # Overriding the Child class method \n",
    "    def fare(self):\n",
    "        return (super().fare()*0.1)+(super().fare())        \n",
    "class MiniBus(Bus):\n",
    "    def __init__(self,name,max_speed,mileage,capacity,price):\n",
    "        super().__init__(name,max_speed,mileage,capacity)\n",
    "        self.price=price\n",
    "    def get_price(self):\n",
    "        return self.price\n",
    "\n",
    "m1=MiniBus(\"Traveller\",175,14,20,13000)\n",
    "print(m1.fare())\n",
    "print(\"The price of the minibus M1 is\",m1.get_price())"
   ]
  },
  {
   "cell_type": "code",
   "execution_count": 87,
   "metadata": {},
   "outputs": [
    {
     "name": "stdout",
     "output_type": "stream",
     "text": [
      "The type of the car c1 is : Sports Car\n"
     ]
    }
   ],
   "source": [
    "class Vehicle:\n",
    "    def  __init__(self, name, max_speed, mileage,capacity): \n",
    "        self.name = name\n",
    "        self.max_speed = max_speed \n",
    "        self.mileage = mileage\n",
    "        self.capacity=capacity\n",
    "\n",
    "    def fare(self):\n",
    "        return self.capacity*100\n",
    "    \n",
    "class Car(Vehicle):\n",
    "    def __init__(self, name, max_speed, mileage, capacity,type,price):\n",
    "        super().__init__(name, max_speed, mileage, capacity)\n",
    "        self.type=type\n",
    "        self.price=price\n",
    "    def get_type(self):\n",
    "        return self.type\n",
    "\n",
    "c1=Car(\"Audi\",350,9,2,\"Sports Car\",1300000)\n",
    "print(\"The type of the car c1 is :\",c1.get_type())\n"
   ]
  },
  {
   "cell_type": "code",
   "execution_count": 94,
   "metadata": {},
   "outputs": [
    {
     "name": "stdout",
     "output_type": "stream",
     "text": [
      "Area is 330500.15018600004\n",
      "Sqaure has 4 sides\n"
     ]
    }
   ],
   "source": [
    "class Shape:\n",
    "    def __init__(self,sides):\n",
    "        self.sides=sides\n",
    "\n",
    "    def __str__(self) :\n",
    "        return \"This is Shape\"\n",
    "    \n",
    "    def fact(self,sides):\n",
    "        return f\"I have {self.sides} sides\"\n",
    "        \n",
    "class Sqaure(Shape):\n",
    "    def fact(self,sides=4):\n",
    "      print(f\"Sqaure has {sides} sides\")\n",
    "\n",
    "class Circle(Shape):\n",
    "    def __init__(self, sides,radius):\n",
    "        super().__init__(sides)\n",
    "        self.radius=radius\n",
    "\n",
    "    def fact(self,sides=0):\n",
    "        super().fact(sides)\n",
    "\n",
    "    def area(self):\n",
    "        print(f\"Area is {self.radius*self.radius*3.14}\")\n",
    "\n",
    "s1=Shape(0)\n",
    "sq=Sqaure(4)\n",
    "c1=Circle(0,324.43)\n",
    "c1.area()\n",
    "sq.fact()"
   ]
  },
  {
   "cell_type": "code",
   "execution_count": 95,
   "metadata": {},
   "outputs": [
    {
     "name": "stdout",
     "output_type": "stream",
     "text": [
      "Displaying the vehicle information.\n",
      "The maximum speed of the truck is 200 km/h.\n",
      "The truck has 8 gears.\n",
      "Displaying the vehicle information.\n",
      "The maximum speed of the car is 240 km/h.\n",
      "The car has 6 gears.\n"
     ]
    }
   ],
   "source": [
    "class Vehicle:\n",
    "\n",
    "    def speed(self):\n",
    "        print(\"The maximum speed of the vehicle is 150 km/h.\")\n",
    "    def change_gear(self):\n",
    "        print(\"The vehicle has 5 gears.\")\n",
    "    def show(self):\n",
    "        print(\"Displaying the vehicle information.\")\n",
    "\n",
    "class Car(Vehicle):\n",
    "    def speed(self):\n",
    "        print(\"The maximum speed of the car is 240 km/h.\")\n",
    "    def change_gear(self):\n",
    "        print(\"The car has 6 gears.\")\n",
    "\n",
    "class Truck(Vehicle):\n",
    "    def speed(self):\n",
    "        print(\"The maximum speed of the truck is 200 km/h.\")\n",
    "    def change_gear(self):print(\"The truck has 8 gears.\")\n",
    "    \n",
    "truck = Truck()\n",
    "truck.show()\n",
    "truck.speed()\n",
    "truck.change_gear()\n",
    "car = Car()\n",
    "car.show()\n",
    "car.speed()\n",
    "car.change_gear()"
   ]
  },
  {
   "cell_type": "code",
   "execution_count": 96,
   "metadata": {},
   "outputs": [
    {
     "name": "stdout",
     "output_type": "stream",
     "text": [
      "Sum of two numbers: 15\n",
      "Sum of three numbers: 30\n"
     ]
    }
   ],
   "source": [
    "class Addition:\n",
    "    def add(self, a, b, c=0):\n",
    "        return a + b + c\n",
    "obj = Addition()\n",
    "print(\"Sum of two numbers:\", obj.add(5, 10))\n",
    "print(\"Sum of three numbers:\", obj.add(5, 10, 15))"
   ]
  },
  {
   "cell_type": "code",
   "execution_count": 97,
   "metadata": {},
   "outputs": [
    {
     "name": "stdout",
     "output_type": "stream",
     "text": [
      "Area of square: 25\n",
      "Area of rectangle: 50\n"
     ]
    }
   ],
   "source": [
    "class Shape:\n",
    "    def area(self, side, breadth=0):\n",
    "        if breadth == 0:\n",
    "            return side * side\n",
    "        else:\n",
    "            return side * breadth\n",
    "shape = Shape()\n",
    "print(\"Area of square:\", shape.area(5))\n",
    "print(\"Area of rectangle:\", shape.area(10, 5))"
   ]
  },
  {
   "cell_type": "code",
   "execution_count": 102,
   "metadata": {},
   "outputs": [
    {
     "name": "stdout",
     "output_type": "stream",
     "text": [
      "Full-time employee Tony Stark salary: 50000\n",
      "Hourly employee Evan Smith salary: 3200\n"
     ]
    }
   ],
   "source": [
    "from abc import ABC, abstractmethod\n",
    "\n",
    "class Employee(ABC):\n",
    "    def __init__(self, first_name, last_name):\n",
    "        self.first_name = first_name\n",
    "        self.last_name = last_name\n",
    "    @property\n",
    "    def full_name(self):\n",
    "        return f\"{self.first_name} {self.last_name}\"\n",
    "    @abstractmethod\n",
    "    def get_salary(self):\n",
    "        pass\n",
    "\n",
    "class FullTimeEmployee(Employee):\n",
    "    def __init__(self, first_name, last_name, salary):\n",
    "        super().__init__(first_name, last_name)\n",
    "        self.salary = salary\n",
    "    def get_salary(self):\n",
    "        return self.salary\n",
    "    \n",
    "class HourlyEmployee(Employee):\n",
    "\n",
    "    def __init__(self, first_name, last_name, hourly_rate, hours_worked):\n",
    "        super().__init__(first_name, last_name)\n",
    "        self.hourly_rate = hourly_rate\n",
    "        self.hours_worked = hours_worked\n",
    "\n",
    "    def get_salary(self):\n",
    "        return self.hourly_rate * self.hours_worked# Example usage\n",
    "    \n",
    "full_time_emp = FullTimeEmployee(\"Tony\", \"Stark\", 50000)\n",
    "hourly_emp = HourlyEmployee(\"Evan\", \"Smith\", 20, 160)\n",
    "\n",
    "print(f\"Full-time employee {full_time_emp.full_name} salary: {full_time_emp.get_salary()}\")\n",
    "print(f\"Hourly employee {hourly_emp.full_name} salary: {hourly_emp.get_salary()}\")"
   ]
  },
  {
   "cell_type": "code",
   "execution_count": 103,
   "metadata": {},
   "outputs": [
    {
     "name": "stdout",
     "output_type": "stream",
     "text": [
      "Result of addition: (6, 8)\n"
     ]
    }
   ],
   "source": [
    "class Point:\n",
    "    def __init__(self, x, y):\n",
    "        self.x = x\n",
    "        self.y = y\n",
    "    def __add__(self, other):\n",
    "        return Point(self.x + other.x, self.y + other.y)\n",
    "    def __str__(self):\n",
    "        return f\"({self.x}, {self.y})\"\n",
    "point1 = Point(2, 3)\n",
    "point2 = Point(4, 5)\n",
    "result = point1 + point2\n",
    "print(\"Result of addition:\", result)"
   ]
  },
  {
   "cell_type": "code",
   "execution_count": 104,
   "metadata": {},
   "outputs": [
    {
     "name": "stdout",
     "output_type": "stream",
     "text": [
      "Error: Cannot divide by zero.\n",
      "Execution completed.\n"
     ]
    }
   ],
   "source": [
    "def divide_nos():\n",
    "    try:\n",
    "        num1 = float(input(\"Enter the first number: \"))\n",
    "        num2 = float(input(\"Enter the second number: \"))\n",
    "        result = num1 / num2\n",
    "    except ZeroDivisionError:\n",
    "        print(\"Error: Cannot divide by zero.\")\n",
    "    finally:\n",
    "        print(\"Execution completed.\")\n",
    "divide_nos()"
   ]
  },
  {
   "cell_type": "code",
   "execution_count": 106,
   "metadata": {},
   "outputs": [
    {
     "name": "stdout",
     "output_type": "stream",
     "text": [
      "Even: 0\n",
      "Even: 2\n",
      "Even: 4\n",
      "Even: 6\n",
      "Even: 8\n",
      "Even: 10\n",
      "Odd: 1\n",
      "Odd: 3\n",
      "Odd: 5\n",
      "Odd: 7\n",
      "Odd: 9\n",
      "Both threads have finished execution.\n"
     ]
    }
   ],
   "source": [
    "import threading\n",
    "def print_even_numbers():\n",
    "    for i in range(0, 11, 2):\n",
    "        print(f\"Even: {i}\")\n",
    "def print_odd_numbers():\n",
    "    for i in range(1, 11, 2):\n",
    "        print(f\"Odd: {i}\")\n",
    "even_thread = threading.Thread(target=print_even_numbers)\n",
    "odd_thread = threading.Thread(target=print_odd_numbers)\n",
    "even_thread.start()\n",
    "odd_thread.start()\n",
    "even_thread.join()\n",
    "odd_thread.join()\n",
    "print(\"Both threads have finished execution.\")"
   ]
  },
  {
   "cell_type": "code",
   "execution_count": 108,
   "metadata": {},
   "outputs": [
    {
     "name": "stdout",
     "output_type": "stream",
     "text": [
      "Factorial of 5 is 120\n",
      "Factorial of 7 is 5040\n"
     ]
    }
   ],
   "source": [
    "import threading\n",
    "def factorial(n, result, idx):\n",
    "    fact = 1\n",
    "    for i in range(1, n + 1):\n",
    "        fact *= i\n",
    "    result[idx] = fact\n",
    "n1 = 5\n",
    "n2 = 7\n",
    "results = [0, 0]\n",
    "thread1 = threading.Thread(target=factorial, args=(n1, results, 0))\n",
    "thread2 = threading.Thread(target=factorial, args=(n2, results, 1))\n",
    "thread1.start()\n",
    "thread2.start()\n",
    "thread1.join()\n",
    "thread2.join()\n",
    "print(f\"Factorial of {n1} is {results[0]}\")\n",
    "print(f\"Factorial of {n2} is {results[1]}\")"
   ]
  },
  {
   "cell_type": "code",
   "execution_count": null,
   "metadata": {},
   "outputs": [],
   "source": []
  }
 ],
 "metadata": {
  "kernelspec": {
   "display_name": "Python 3",
   "language": "python",
   "name": "python3"
  },
  "language_info": {
   "codemirror_mode": {
    "name": "ipython",
    "version": 3
   },
   "file_extension": ".py",
   "mimetype": "text/x-python",
   "name": "python",
   "nbconvert_exporter": "python",
   "pygments_lexer": "ipython3",
   "version": "3.12.3"
  }
 },
 "nbformat": 4,
 "nbformat_minor": 2
}
