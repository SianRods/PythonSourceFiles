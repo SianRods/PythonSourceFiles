{
 "cells": [
  {
   "cell_type": "markdown",
   "metadata": {},
   "source": [
    "# Experiment No. 07\n",
    "#### D098       60009230197         SIAN RODRIGUES"
   ]
  },
  {
   "cell_type": "code",
   "execution_count": 92,
   "metadata": {},
   "outputs": [],
   "source": [
    "import numpy as np\n",
    "import statistics as st"
   ]
  },
  {
   "cell_type": "markdown",
   "metadata": {},
   "source": [
    "**Question No.1   \\\n",
    "Create a 3x3 matrix of random integers between 1 and 10 and find the total sum of its elements**"
   ]
  },
  {
   "cell_type": "code",
   "execution_count": 20,
   "metadata": {},
   "outputs": [
    {
     "name": "stdout",
     "output_type": "stream",
     "text": [
      "[[8 6 6]\n",
      " [6 5 8]\n",
      " [2 8 2]]\n",
      "51\n"
     ]
    }
   ],
   "source": [
    "mat=np.array([np.random.randint(10) for x in range(9)]).reshape(3,3)\n",
    "print(mat)\n",
    "print(sum(sum(mat)))"
   ]
  },
  {
   "cell_type": "markdown",
   "metadata": {},
   "source": [
    "**Question No.2      \\\n",
    "Generate a 4x4 matrix of random numbers and compute the average of all its elements.**"
   ]
  },
  {
   "cell_type": "code",
   "execution_count": 25,
   "metadata": {},
   "outputs": [
    {
     "name": "stdout",
     "output_type": "stream",
     "text": [
      "[[0.70343968 0.79812085 0.66358047 0.39363167]\n",
      " [0.51515822 0.59126451 0.70014982 0.10283327]\n",
      " [0.51640206 0.18826844 0.12102971 0.13852329]\n",
      " [0.50493613 0.77354856 0.19354201 0.6544277 ]]\n",
      "0.47242852488333353\n"
     ]
    }
   ],
   "source": [
    "mat1=np.array([np.random.rand() for x in range(16)]).reshape(4,4)\n",
    "print(mat1)\n",
    "print(sum(sum(mat1)) / 16)"
   ]
  },
  {
   "cell_type": "markdown",
   "metadata": {},
   "source": [
    "**Question No.3     \\\n",
    "Create a 2x3 matrix and find the sum of all elements in the second row.**"
   ]
  },
  {
   "cell_type": "code",
   "execution_count": 33,
   "metadata": {},
   "outputs": [
    {
     "name": "stdout",
     "output_type": "stream",
     "text": [
      "[[0.15622473 0.85973533 0.52451392]\n",
      " [0.04003866 0.36045508 0.34531346]]\n",
      "0.7458071898248083\n"
     ]
    }
   ],
   "source": [
    "mat2=np.array([np.random.rand() for x in range(6)]).reshape(2,3)\n",
    "print(mat2)\n",
    "print(sum(mat2[1]))"
   ]
  },
  {
   "cell_type": "markdown",
   "metadata": {},
   "source": [
    "**Question No.4     \\\n",
    "Generate a 5x5 matrix of random integers and determine the highest value in each column.** "
   ]
  },
  {
   "cell_type": "code",
   "execution_count": 45,
   "metadata": {},
   "outputs": [
    {
     "name": "stdout",
     "output_type": "stream",
     "text": [
      "[[24 24 20  6 12]\n",
      " [14 15 21  2  9]\n",
      " [ 1 10 21 17 20]\n",
      " [20 16  1 15  8]\n",
      " [ 4 16 10 15 21]]\n",
      "Maximum value in the column 1 is :24\n",
      "Maximum value in the column 2 is :24\n",
      "Maximum value in the column 3 is :21\n",
      "Maximum value in the column 4 is :17\n",
      "Maximum value in the column 5 is :21\n"
     ]
    }
   ],
   "source": [
    "mat3=np.array([np.random.randint(25) for x in range(25)]).reshape(5,5)\n",
    "print(mat3)\n",
    "# Highest Values in the each columns \n",
    "\n",
    "for i in  range(5):\n",
    "    print(f\"Maximum value in the column {i+1} is :{max(mat3[:,i])}\")"
   ]
  },
  {
   "cell_type": "markdown",
   "metadata": {},
   "source": [
    "**Question No.5 \\\n",
    "Create a 4x4 matrix and calculate the sum of its main diagonal elements.**"
   ]
  },
  {
   "cell_type": "code",
   "execution_count": 59,
   "metadata": {},
   "outputs": [
    {
     "name": "stdout",
     "output_type": "stream",
     "text": [
      "[[12  1 14  6]\n",
      " [ 0 13  9 12]\n",
      " [ 9 11 10  7]\n",
      " [12  2 11  6]]\n",
      "Sum of all elements in the principal diagonals is 41\n"
     ]
    }
   ],
   "source": [
    "mat4=np.array([np.random.randint(16) for x in range(16)]).reshape(4,4)\n",
    "print(mat4)\n",
    "sum=0\n",
    "for i in range(4):\n",
    "   sum+=mat4[i][i]\n",
    "print(f\"Sum of all elements in the principal diagonals is {sum}\")\n"
   ]
  },
  {
   "cell_type": "markdown",
   "metadata": {},
   "source": [
    "**Question No.6     \\\n",
    "Generate a 3x3 matrix and find the smallest value among all its elements.**"
   ]
  },
  {
   "cell_type": "code",
   "execution_count": 72,
   "metadata": {},
   "outputs": [
    {
     "name": "stdout",
     "output_type": "stream",
     "text": [
      "[[13 14 15]\n",
      " [ 7  0  6]\n",
      " [ 0  4  7]]\n",
      "The minimum values in the whole matrix is : 0\n"
     ]
    }
   ],
   "source": [
    "mat5=np.array([np.random.randint(16) for x in range(9)]).reshape(3,3)\n",
    "print(mat5)\n",
    "col_min_list=[min(mat5[:,j]) for j in range(3)]\n",
    "print(f\"The minimum values in the whole matrix is : {min(col_min_list)}\")\n"
   ]
  },
  {
   "cell_type": "markdown",
   "metadata": {},
   "source": [
    "**Question No.7 \\\n",
    "Create a 4x4 matrix of random integers between 1 and 20 and compute the sum of all elements that are greater than 10.**"
   ]
  },
  {
   "cell_type": "code",
   "execution_count": 77,
   "metadata": {},
   "outputs": [
    {
     "name": "stdout",
     "output_type": "stream",
     "text": [
      "[[ 1  9  5 15]\n",
      " [17  8 16  6]\n",
      " [17 16  7  9]\n",
      " [12  1 12  5]]\n",
      "The sum of all elements greater than 10 are 105\n"
     ]
    }
   ],
   "source": [
    "mat6=np.array([np.random.randint(1,20) for x in range(16)]).reshape(4,4)\n",
    "print(mat6)\n",
    "sum=0\n",
    "for i in range(4):\n",
    "    for j in range(4):\n",
    "        if(mat6[i][j]>10):\n",
    "            sum+=mat6[i][j]\n",
    "\n",
    "print(f\"The sum of all elements greater than 10 are {sum}\")"
   ]
  },
  {
   "cell_type": "markdown",
   "metadata": {},
   "source": [
    "**Question No.8     \\\n",
    "Generate a 5x5 matrix of random numbers and find the mean of the maximum values of each row.**"
   ]
  },
  {
   "cell_type": "code",
   "execution_count": 94,
   "metadata": {},
   "outputs": [
    {
     "name": "stdout",
     "output_type": "stream",
     "text": [
      "[[15  4  2  9 11]\n",
      " [ 6  5 11  5  8]\n",
      " [ 2 19 16 15 10]\n",
      " [ 6  4  9 13 11]\n",
      " [15 12 15 10  6]]\n",
      "Value of the mean is :  14\n"
     ]
    }
   ],
   "source": [
    "mat7=np.array([np.random.randint(1,20) for x in range(25)]).reshape(5,5)\n",
    "max_values_row=[max(mat7[:][j]) for j in range(5)]\n",
    "print(mat7)\n",
    "val=st.mean(max_values_row)\n",
    "print(\"Value of the mean is : \",val)\n"
   ]
  },
  {
   "cell_type": "markdown",
   "metadata": {},
   "source": [
    "**Question No. 9    \\\n",
    "Create a 3x3 matrix and calculate the difference between the sum of the elements in the first row and the sum of the elements in the last row.**"
   ]
  },
  {
   "cell_type": "code",
   "execution_count": 124,
   "metadata": {},
   "outputs": [
    {
     "name": "stdout",
     "output_type": "stream",
     "text": [
      "[[15 13 16]\n",
      " [19 16  9]\n",
      " [19  1  2]]\n",
      "Sum of Elements in the First and third Row [34 14 18]\n"
     ]
    }
   ],
   "source": [
    "mat8=np.array([np.random.randint(1,20) for x in range(9)]).reshape(3,3)\n",
    "print(mat8)\n",
    "print(f\"Sum of Elements in the First and third Row {mat8[0][:]+mat8[2][:]}\")"
   ]
  },
  {
   "cell_type": "markdown",
   "metadata": {},
   "source": [
    "**Question No.10    \\\n",
    "Generate a 6x6 matrix of random integers and replace all values below the median with zero.**"
   ]
  },
  {
   "cell_type": "code",
   "execution_count": 111,
   "metadata": {},
   "outputs": [
    {
     "name": "stdout",
     "output_type": "stream",
     "text": [
      "[[32 13 13 30 35 26]\n",
      " [ 6 17 20 34  5 31]\n",
      " [29  8 32 34 18 15]\n",
      " [35  5 33 12 34 14]\n",
      " [12 30 33  7  1 22]\n",
      " [ 1 35 20  5 12  7]]\n",
      "The median of the given array is : 19.0\n",
      "[[32  0  0 30 35 26]\n",
      " [ 0  0 20 34  5 31]\n",
      " [29  0 32 34 18 15]\n",
      " [35  0 33  0 34 14]\n",
      " [12 30 33  7  1 22]\n",
      " [ 1 35 20  5 12  7]]\n"
     ]
    }
   ],
   "source": [
    "mat9=np.array([np.random.randint(1,36) for x in range(36)]).reshape(6,6)\n",
    "print(mat9)\n",
    "med=st.median(mat9.flatten())\n",
    "for i in range(4):\n",
    "    for j in range(4):\n",
    "        if(mat9[i][j]<med):\n",
    "            mat9[i][j]=0\n",
    "print(f\"The median of the given array is : {med}\")\n",
    "print(mat9)\n"
   ]
  },
  {
   "cell_type": "markdown",
   "metadata": {},
   "source": [
    "**Question No. 11   \\\n",
    "Create a 4x4 matrix and compute the sum of elements in the upper triangular part of the matrix.**"
   ]
  },
  {
   "cell_type": "code",
   "execution_count": 114,
   "metadata": {},
   "outputs": [
    {
     "name": "stdout",
     "output_type": "stream",
     "text": [
      "[[29 12 32 24]\n",
      " [ 4 20 17  8]\n",
      " [ 3 28 20 12]\n",
      " [34 16 16 17]]\n",
      "Sum of all elements in the upper traingular matrix is :  191\n"
     ]
    }
   ],
   "source": [
    "mat10=np.array([np.random.randint(1,36) for x in range(16)]).reshape(4,4)\n",
    "print(mat10)\n",
    "sum=0\n",
    "for i in range(4):\n",
    "    for j in range(4):\n",
    "        if(j>=i):\n",
    "            sum+=mat10[i][j]\n",
    "print(\"Sum of all elements in the upper traingular matrix is : \",sum)"
   ]
  },
  {
   "cell_type": "markdown",
   "metadata": {},
   "source": [
    "**Question No. 12   \\\n",
    "Generate a 3x4 matrix of random values and find the standard deviation of the elements in the third column.**"
   ]
  },
  {
   "cell_type": "code",
   "execution_count": 122,
   "metadata": {},
   "outputs": [
    {
     "name": "stdout",
     "output_type": "stream",
     "text": [
      "[[14 11 23 12]\n",
      " [ 3  4 10 10]\n",
      " [16 11 33 18]]\n",
      "The Standard Deviation in the Third Column is : 11.532562594670797\n"
     ]
    }
   ],
   "source": [
    "mat11=np.array([np.random.randint(1,36) for x in range(12)]).reshape(3,4)\n",
    "print(mat11)\n",
    "std_dev=st.stdev(mat11[:,2].tolist())\n",
    "print(f\"The Standard Deviation in the Third Column is : {std_dev}\")"
   ]
  },
  {
   "cell_type": "code",
   "execution_count": null,
   "metadata": {},
   "outputs": [],
   "source": []
  }
 ],
 "metadata": {
  "kernelspec": {
   "display_name": "Python 3",
   "language": "python",
   "name": "python3"
  },
  "language_info": {
   "codemirror_mode": {
    "name": "ipython",
    "version": 3
   },
   "file_extension": ".py",
   "mimetype": "text/x-python",
   "name": "python",
   "nbconvert_exporter": "python",
   "pygments_lexer": "ipython3",
   "version": "3.12.4"
  }
 },
 "nbformat": 4,
 "nbformat_minor": 2
}
