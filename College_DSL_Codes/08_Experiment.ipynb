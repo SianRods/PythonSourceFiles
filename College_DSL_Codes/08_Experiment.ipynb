{
 "cells": [
  {
   "cell_type": "markdown",
   "id": "88a3c141",
   "metadata": {},
   "source": [
    "# Experiment No.08  DSL \n",
    "#### SIAN RODRIGUES         D098\n",
    "#### 60009230197"
   ]
  },
  {
   "cell_type": "code",
   "execution_count": 1,
   "id": "9cfe26cf",
   "metadata": {},
   "outputs": [],
   "source": [
    "import numpy as np\n",
    "from numpy import median\n",
    "from scipy import stats as st"
   ]
  },
  {
   "cell_type": "code",
   "execution_count": 2,
   "id": "a1587d55",
   "metadata": {},
   "outputs": [
    {
     "name": "stdout",
     "output_type": "stream",
     "text": [
      "9.0\n"
     ]
    }
   ],
   "source": [
    "# Calculating Mean of an Array \n",
    "arr1=np.array([3,6,9,12,15])\n",
    "print(arr1.mean())"
   ]
  },
  {
   "cell_type": "code",
   "execution_count": 3,
   "id": "af28625e",
   "metadata": {},
   "outputs": [
    {
     "name": "stdout",
     "output_type": "stream",
     "text": [
      "5.0\n"
     ]
    }
   ],
   "source": [
    "arr2= np.array([7,3,9,1,5])\n",
    "print(np.median(arr2))"
   ]
  },
  {
   "cell_type": "code",
   "execution_count": 4,
   "id": "1324c037",
   "metadata": {},
   "outputs": [
    {
     "name": "stdout",
     "output_type": "stream",
     "text": [
      "4\n"
     ]
    }
   ],
   "source": [
    "arr3=np.array([4,1,2,2,3,4,4])\n",
    "print(st.mode(arr3)[0])"
   ]
  },
  {
   "cell_type": "code",
   "execution_count": 5,
   "id": "2f9f1e41",
   "metadata": {},
   "outputs": [
    {
     "name": "stdout",
     "output_type": "stream",
     "text": [
      "Variance of the data : [2 4 4 5 5 7 9] is 4.408163265306123\n"
     ]
    }
   ],
   "source": [
    "arr4 = np.array([2,4,4,5,5,7,9])\n",
    "print(f\"Variance of the data : {arr4} is {np.var(arr4)}\")"
   ]
  },
  {
   "cell_type": "code",
   "execution_count": 6,
   "id": "0116a0c8",
   "metadata": {},
   "outputs": [
    {
     "name": "stdout",
     "output_type": "stream",
     "text": [
      "Standard Deviation of the Data : [10 12 23 23 16 23 21 16] is 4.898979485566356\n"
     ]
    }
   ],
   "source": [
    "arr5=np.array([10,12,23,23,16,23,21,16])\n",
    "print(f\"Standard Deviation of the Data : {arr5} is {(np.var(arr5))**0.5}\")"
   ]
  },
  {
   "cell_type": "code",
   "execution_count": 7,
   "id": "7a2edf56",
   "metadata": {},
   "outputs": [
    {
     "name": "stdout",
     "output_type": "stream",
     "text": [
      "18\n"
     ]
    }
   ],
   "source": [
    "arr6=np.array([3,7,8,5,12,14,21,13,18])\n",
    "print(np.max(arr6)-np.min(arr6))"
   ]
  },
  {
   "cell_type": "code",
   "execution_count": 8,
   "id": "9616f912",
   "metadata": {},
   "outputs": [
    {
     "name": "stdout",
     "output_type": "stream",
     "text": [
      "<class 'numpy.ndarray'>\n",
      "(2, 2)\n",
      "The Corrlation Coeff of [1 2 3 4 5] and [ 2  4  6  8 10] is 0.9999999999999999 \n"
     ]
    }
   ],
   "source": [
    "sam_arr1=np.array([1,2,3,4,5])\n",
    "sam_arr2=np.array([2,4,6,8,10])\n",
    "\n",
    "# Calculating Carl Pearson's Coefficient\n",
    "print(type(np.corrcoef(sam_arr1,sam_arr2)))\n",
    "print(np.corrcoef(sam_arr1,sam_arr2).shape)\n",
    "print(f\"The Corrlation Coeff of {sam_arr1} and {sam_arr2} is {np.corrcoef(sam_arr1,sam_arr2)[0,1]} \")\n"
   ]
  },
  {
   "cell_type": "code",
   "execution_count": 9,
   "id": "c9434e12",
   "metadata": {},
   "outputs": [
    {
     "name": "stdout",
     "output_type": "stream",
     "text": [
      "[0. 0. 0. 0. 0. 0. 0. 0. 0. 0. 0. 0. 0. 0. 0. 0. 0. 0. 0. 0.]\n"
     ]
    }
   ],
   "source": [
    "print(np.zeros(20))"
   ]
  },
  {
   "cell_type": "code",
   "execution_count": 10,
   "id": "c89b12ab",
   "metadata": {},
   "outputs": [
    {
     "name": "stdout",
     "output_type": "stream",
     "text": [
      "[[1. 0. 0. 0.]\n",
      " [0. 1. 0. 0.]\n",
      " [0. 0. 1. 0.]\n",
      " [0. 0. 0. 1.]]\n"
     ]
    }
   ],
   "source": [
    "# Generating a 4*4 Identity Matrix \n",
    "order = int(input(\"Enter the order of the Identity Matrix : \"))\n",
    "print(np.eye(order))"
   ]
  },
  {
   "cell_type": "code",
   "execution_count": 11,
   "id": "c4103662",
   "metadata": {},
   "outputs": [
    {
     "name": "stdout",
     "output_type": "stream",
     "text": [
      "The dot product of two Arrays [1, 2, 3] and [4, 5, 6] is : 32\n"
     ]
    }
   ],
   "source": [
    "dot1=[1,2,3]\n",
    "dot2=[4,5,6]\n",
    "print(f\"The dot product of two Arrays {dot1} and {dot2} is : {np.dot(dot1,dot2)}\")"
   ]
  },
  {
   "cell_type": "code",
   "execution_count": 12,
   "id": "b840d296",
   "metadata": {},
   "outputs": [
    {
     "name": "stdout",
     "output_type": "stream",
     "text": [
      "[ 0  1  2  3  4  5  6  7  8  9 10 11]\n",
      "[[ 0  1  2  3]\n",
      " [ 4  5  6  7]\n",
      " [ 8  9 10 11]]\n"
     ]
    }
   ],
   "source": [
    "arr_11=np.arange(12)\n",
    "print(arr_11)\n",
    "print(arr_11.reshape(3,4))"
   ]
  },
  {
   "cell_type": "code",
   "execution_count": 13,
   "id": "a5f7d8d1",
   "metadata": {},
   "outputs": [
    {
     "name": "stdout",
     "output_type": "stream",
     "text": [
      "1.0\n"
     ]
    }
   ],
   "source": [
    "x = np.array([1,2,3,5])\n",
    "y=np.array([2,3,4,6])\n",
    "# Length of the Array \n",
    "N=len(x)\n",
    "cumsum=0\n",
    "for i in range(N):\n",
    "    cumsum+=(x[i]-np.mean(x))*(y[i]-np.mean(y))\n",
    "denominator = N*(np.var(x)**0.5)*(np.var(y)**0.5)\n",
    "corr_r=cumsum/denominator\n",
    "print(corr_r)"
   ]
  }
 ],
 "metadata": {
  "kernelspec": {
   "display_name": "Python 3",
   "language": "python",
   "name": "python3"
  },
  "language_info": {
   "codemirror_mode": {
    "name": "ipython",
    "version": 3
   },
   "file_extension": ".py",
   "mimetype": "text/x-python",
   "name": "python",
   "nbconvert_exporter": "python",
   "pygments_lexer": "ipython3",
   "version": "3.12.4"
  }
 },
 "nbformat": 4,
 "nbformat_minor": 5
}
