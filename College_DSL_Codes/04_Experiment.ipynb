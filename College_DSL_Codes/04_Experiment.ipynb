{
 "cells": [
  {
   "cell_type": "markdown",
   "id": "c2e01f9e-d440-4306-bb39-fd3d719efe82",
   "metadata": {},
   "source": [
    "# DSL- Python Experiment No. 3 -- Updated one \n",
    "***NAME- SIAN RODRIGUES  ROLL NO.- D098  SAPID-60009230197 DIV- D2-2***"
   ]
  },
  {
   "cell_type": "markdown",
   "id": "095d2cc2-25a4-4b28-99d2-49b660b6efa0",
   "metadata": {},
   "source": [
    "1. Define a function multiply(x, y) that returns the product of x and y."
   ]
  },
  {
   "cell_type": "code",
   "execution_count": 1,
   "id": "d9e57571-375a-4921-bc6b-ab6dd13d3333",
   "metadata": {},
   "outputs": [
    {
     "name": "stdout",
     "output_type": "stream",
     "text": [
      "10\n"
     ]
    }
   ],
   "source": [
    "def multiply(x,y):\n",
    "\treturn x*y;\n",
    "print(multiply(2,5))"
   ]
  },
  {
   "cell_type": "markdown",
   "id": "b30d78fa-4135-4a00-8980-5014c1cb6af2",
   "metadata": {},
   "source": [
    "2. Write a function is_even(num) that returns True if num is even, and False \n",
    "otherwise."
   ]
  },
  {
   "cell_type": "code",
   "execution_count": 2,
   "id": "7539d02f-3fe0-4ba9-9788-562890efe2a7",
   "metadata": {},
   "outputs": [
    {
     "name": "stdout",
     "output_type": "stream",
     "text": [
      "True\n"
     ]
    }
   ],
   "source": [
    "def is_even(num):\n",
    "\tif(num%2==0):\n",
    "\t\treturn True\n",
    "\telse:\n",
    "\t\treturn False\n",
    "\n",
    "print(is_even(8))"
   ]
  },
  {
   "cell_type": "markdown",
   "id": "0bd18e09-f62f-4996-adb6-b6119273480b",
   "metadata": {},
   "source": [
    "3. Create a function concat_strings(s1, s2) that returns the concatenation of s1 and s2."
   ]
  },
  {
   "cell_type": "code",
   "execution_count": 6,
   "id": "8799bb48-ba2b-4390-9a57-35ac173020a8",
   "metadata": {},
   "outputs": [
    {
     "name": "stdout",
     "output_type": "stream",
     "text": [
      "HelloWorld\n"
     ]
    }
   ],
   "source": [
    "def concat_strings(s1,s2):\n",
    "\treturn s1+s2\n",
    "\n",
    "print(concat_strings('Hello','World'))"
   ]
  },
  {
   "cell_type": "markdown",
   "id": "497e8f6f-a955-4a8a-8848-a92e71d6b35f",
   "metadata": {},
   "source": [
    "4. Define max_of_two(a, b) that returns the larger of a and b."
   ]
  },
  {
   "cell_type": "code",
   "execution_count": 9,
   "id": "8ae6c80a-62d3-4390-bbc4-151918cda259",
   "metadata": {},
   "outputs": [
    {
     "name": "stdout",
     "output_type": "stream",
     "text": [
      "232\n"
     ]
    }
   ],
   "source": [
    "def max_of_two(a,b):\n",
    "\tif(a>b):\n",
    "\t\treturn a\n",
    "\telse:\n",
    "\t\treturn b\n",
    "\t\n",
    "print(max_of_two(45,232))"
   ]
  },
  {
   "cell_type": "markdown",
   "id": "61abb0f2-2e17-435a-b3e1-6b60da5d5dce",
   "metadata": {},
   "source": [
    "5. Write a recursive function count_down(n) that prints numbers from n down to 1."
   ]
  },
  {
   "cell_type": "code",
   "execution_count": 2,
   "id": "b3facff1-4af9-4c9a-9d19-b3425dde9cc7",
   "metadata": {},
   "outputs": [
    {
     "name": "stdout",
     "output_type": "stream",
     "text": [
      "10\n",
      "9\n",
      "8\n",
      "7\n",
      "6\n",
      "5\n",
      "4\n",
      "3\n",
      "2\n",
      "1\n",
      "None\n"
     ]
    }
   ],
   "source": [
    "def count_down(n):\n",
    "\tif(n==1):\n",
    "\t\tprint(1)\n",
    "\telse:\n",
    "\t\tprint(n)\n",
    "\t\tcount_down(n-1)\n",
    "print(count_down(10))"
   ]
  },
  {
   "cell_type": "markdown",
   "id": "5091b70c-c73a-43e9-945b-a16b586b5cdf",
   "metadata": {},
   "source": [
    "6. Create a recursive function sum_of_list(lst) that returns the sum of all elements in the list \n",
    "lst. "
   ]
  },
  {
   "cell_type": "code",
   "execution_count": 20,
   "id": "0c118965-7ddd-4e00-b888-342e5d1df6d6",
   "metadata": {},
   "outputs": [
    {
     "name": "stdout",
     "output_type": "stream",
     "text": [
      "1437\n"
     ]
    }
   ],
   "source": [
    "def sum_of_list(lst):\n",
    "    if not lst:\n",
    "        return 0\n",
    "    return lst[0] + sum_of_list(lst[1:])\n",
    "# Here how the code Works : -->\n",
    "lst=[1,2,3,4,5]\n",
    "# for 1 cycle  [1] call on ([2,3,4,5])\n",
    "# for 2 cycle  [1]+[2] call on ([3,4,5])\n",
    "# for..... till required cycles \n",
    "print(sum_of_list([243,632,2,437,123]))"
   ]
  },
  {
   "cell_type": "markdown",
   "id": "772dd54b-747c-407a-8ce1-213c3d5aa116",
   "metadata": {},
   "source": [
    "7. Define a recursive function find_max(lst) that returns the maximum value in the list lst."
   ]
  },
  {
   "cell_type": "code",
   "execution_count": 21,
   "id": "19d05fdd-0a99-45f0-90b3-a1b3f2ac47f6",
   "metadata": {},
   "outputs": [
    {
     "name": "stdout",
     "output_type": "stream",
     "text": [
      "342\n"
     ]
    }
   ],
   "source": [
    "def find_max(lst):\n",
    "    if len(lst) == 1:\n",
    "        return lst[0]\n",
    "    return max(lst[0], find_max(lst[1:]))\n",
    "print(find_max([342,46,143,130]))"
   ]
  },
  {
   "cell_type": "markdown",
   "id": "0529a798-0157-40d1-8e50-ce1384997875",
   "metadata": {},
   "source": [
    "8. Write a function reverse_list(lst) that reverses the list lst using recursion. "
   ]
  },
  {
   "cell_type": "code",
   "execution_count": 1,
   "id": "fc68c380-31cb-461d-92ca-aa01e6882f95",
   "metadata": {},
   "outputs": [
    {
     "name": "stdout",
     "output_type": "stream",
     "text": [
      "[543, 24, 34, 22, 12]\n"
     ]
    }
   ],
   "source": [
    "def reverse_list(lst):\n",
    "    if len(lst) == 0:\n",
    "        return []\n",
    "    return [lst[-1]] + reverse_list(lst[:-1])\n",
    "print(reverse_list([12,22,34,24,543]))"
   ]
  },
  {
   "cell_type": "markdown",
   "id": "878eaad7-e7d2-4661-8db5-cfd8af44057d",
   "metadata": {},
   "source": [
    "9. Create a recursive function string_length(s) that returns the length of the string s."
   ]
  },
  {
   "cell_type": "code",
   "execution_count": 23,
   "id": "6b1919fc-a613-4f3a-9db6-1a9292201a07",
   "metadata": {},
   "outputs": [
    {
     "name": "stdout",
     "output_type": "stream",
     "text": [
      "11\n"
     ]
    }
   ],
   "source": [
    "def string_length(s):\n",
    "    if s == '':\n",
    "        return 0\n",
    "    return 1 + string_length(s[1:])\n",
    "print(string_length(\"Daryl Dixon\"))\n",
    "# Here we are alaso including the white spaces"
   ]
  },
  {
   "cell_type": "markdown",
   "id": "43fef9e8-af17-43de-990a-a6cf00503c39",
   "metadata": {},
   "source": [
    "10. Define power(base, exp) that calculates base raised to the power of exp using recursion. "
   ]
  },
  {
   "cell_type": "code",
   "execution_count": 25,
   "id": "8d682075-cd52-4763-8dc8-7454055237ae",
   "metadata": {},
   "outputs": [
    {
     "name": "stdout",
     "output_type": "stream",
     "text": [
      "1048576\n"
     ]
    }
   ],
   "source": [
    "def power(base, exp):\n",
    "    # Defining the base condition\n",
    "    if exp == 0:\n",
    "        return 1\n",
    "    return base * power(base, exp - 1)\n",
    "print(power(32,4))\n",
    "# 10^n= 10*10^(n-1)"
   ]
  },
  {
   "cell_type": "markdown",
   "id": "0d6ee4b1-fe04-453b-bf24-2e293ce289b8",
   "metadata": {},
   "source": [
    "11.  Write a recursive function print_pattern(n) that prints a pattern of * in n rows. "
   ]
  },
  {
   "cell_type": "code",
   "execution_count": 2,
   "id": "009b28b9-b47f-4f70-b277-5e7001014921",
   "metadata": {},
   "outputs": [
    {
     "name": "stdout",
     "output_type": "stream",
     "text": [
      "*\n",
      "**\n",
      "***\n",
      "****\n",
      "*****\n",
      "None\n"
     ]
    }
   ],
   "source": [
    "def print_pattern(n):\n",
    "    if n > 0:\n",
    "        print_pattern(n - 1)\n",
    "        print('*' * n)\n",
    "print(print_pattern(5))"
   ]
  },
  {
   "cell_type": "markdown",
   "id": "fc14eae1-25e3-4635-b3f2-c7932bd4488e",
   "metadata": {},
   "source": [
    "12. Create a recursive function factorial(n) that returns the factorial of n."
   ]
  },
  {
   "cell_type": "code",
   "execution_count": 28,
   "id": "1114e31d-c7c2-4e99-b480-8103c3bbe197",
   "metadata": {},
   "outputs": [
    {
     "name": "stdout",
     "output_type": "stream",
     "text": [
      "80658175170943878571660636856403766975289505440883277824000000000000\n"
     ]
    }
   ],
   "source": [
    "def factorial(n):\n",
    "    if n == 0:\n",
    "        return 1\n",
    "    return n * factorial(n - 1)\n",
    "print(factorial(52))\n",
    "# n!= n * (n-1)!"
   ]
  },
  {
   "cell_type": "markdown",
   "id": "3c45cd19-0175-44c7-bde9-92af6215091d",
   "metadata": {},
   "source": [
    "13. Write a function that merges two dictionaries. The merger should handle cases where the \n",
    "dictionaries have overlapping keys by storing values in a list. If a key exists in both \n",
    "dictionaries, the value in the resulting dictionary should be a list containing the values from \n",
    "both dictionaries. "
   ]
  },
  {
   "cell_type": "code",
   "execution_count": 42,
   "id": "b3b5deec-9840-4c19-b741-36d175691eb4",
   "metadata": {},
   "outputs": [
    {
     "name": "stdout",
     "output_type": "stream",
     "text": [
      "{'apple': 3, 'grape': 4, 'banana': [1, 5], 'orange': [2, 7]}\n"
     ]
    }
   ],
   "source": [
    "def merge_dicts(d1, d2):\n",
    "    result = {}\n",
    "    for key in set(d1) | set(d2):\n",
    "        if key in d1 and key in d2:\n",
    "            # If in Both Save them as a Key\n",
    "            result[key] = [d1[key], d2[key]]\n",
    "        else:\n",
    "            result[key] = d1.get(key) or d2.get(key)\n",
    "    return result\n",
    "\n",
    "dict1 = {'apple': 3, 'banana': 1, 'orange': 2}\n",
    "dict2 = {'banana': 5, 'orange': 7, 'grape': 4}\n",
    "\n",
    "merged_dict = merge_dicts(dict1, dict2)\n",
    "print(merged_dict)\n"
   ]
  },
  {
   "cell_type": "markdown",
   "id": "48848ad0-17f7-4d74-a558-1f72f3dda49f",
   "metadata": {},
   "source": [
    "14. Write program using lambda function to display numbers divisible by 9 from the given the \n",
    "list   "
   ]
  },
  {
   "cell_type": "code",
   "execution_count": 30,
   "id": "525220e2-c4a2-4be4-9c5a-a1f9e5fb084a",
   "metadata": {},
   "outputs": [
    {
     "name": "stdout",
     "output_type": "stream",
     "text": [
      "[90]\n"
     ]
    }
   ],
   "source": [
    "lst = [104, 923, 1438, 4322, 425, 90]\n",
    "div_by_9 = list(filter(lambda x: x % 9 == 0, lst))\n",
    "print(div_by_9)"
   ]
  },
  {
   "cell_type": "markdown",
   "id": "0ae050e1-a36c-43d7-a76a-32dc4e8c2e7d",
   "metadata": {},
   "source": [
    "15. Write a Python program to sort a list of tuples using Lambda. \n",
    "Original \n",
    "list \n",
    "[('English', \n",
    "Sorting \n",
    "88), \n",
    "('Science', \n",
    "the \n",
    "of \n",
    "90), \n",
    "('Maths', \n",
    "List \n",
    "97), \n",
    "('Social \n",
    "of \n",
    "[('Social sciences', 82), ('English', 88), ('Science', 90), ('Maths', 97)] "
   ]
  },
  {
   "cell_type": "markdown",
   "id": "6b3085cc",
   "metadata": {},
   "source": [
    "#### Use of the `key` attribute  --> \n",
    "**If a key function is given, apply it once to each list item and sort them(lamda function applied list ko sort karna hai),ascending or descending, according to their function values.**\n",
    "\n"
   ]
  },
  {
   "cell_type": "code",
   "execution_count": 5,
   "id": "6f7dddf1-8c32-42b3-978b-a02c5d50b7e7",
   "metadata": {},
   "outputs": [
    {
     "name": "stdout",
     "output_type": "stream",
     "text": [
      "[('Maths', 97), ('Science', 90), ('English', 88), ('Social sciences', 82)]\n"
     ]
    }
   ],
   "source": [
    "lst = [('English', 88), ('Science', 90), ('Maths', 97), ('Social sciences', 82)]\n",
    "lst.sort(key=lambda x: x[1],reverse=True)\n",
    "# key=lambda x:x[0]  --> Sorts the given list in the alphabetical order \n",
    "print(lst)"
   ]
  },
  {
   "cell_type": "markdown",
   "id": "91e92122-4fac-4600-bde3-2cd100fde31f",
   "metadata": {},
   "source": [
    "16.  Write a Python program to find the intersection of two given arrays using Lambda  \n",
    "Original \n",
    "arrays: \n",
    "Check pdf "
   ]
  },
  {
   "cell_type": "code",
   "execution_count": 7,
   "id": "c5b961eb-331d-4b06-8b55-42d896a4880f",
   "metadata": {},
   "outputs": [
    {
     "data": {
      "text/plain": [
       "[1, 2, 8, 9]"
      ]
     },
     "execution_count": 7,
     "metadata": {},
     "output_type": "execute_result"
    }
   ],
   "source": [
    "arr1 = [1, 2, 3, 5, 7, 8, 9, 10]\n",
    "arr2 = [1, 2, 4, 8, 9]\n",
    "intersection = list(filter(lambda x: x in arr1,arr2))\n",
    "intersection"
   ]
  },
  {
   "cell_type": "markdown",
   "id": "d7214b70-81b6-496b-8459-987a8337906b",
   "metadata": {},
   "source": [
    "**Problem Number 17**"
   ]
  },
  {
   "cell_type": "code",
   "execution_count": 9,
   "id": "a86d2d00-b474-42bc-b0d0-081853211764",
   "metadata": {},
   "outputs": [
    {
     "data": {
      "text/plain": [
       "[5, 7, 9]"
      ]
     },
     "execution_count": 9,
     "metadata": {},
     "output_type": "execute_result"
    }
   ],
   "source": [
    "lst1 = [1, 2, 3]\n",
    "lst2 = [4, 5, 6]\n",
    "result = list(map(lambda x, y: x + y, lst1, lst2))\n",
    "# Here note that x --> denotes the element in the lst1 , y denotes the element in the lst2\n",
    "result"
   ]
  },
  {
   "cell_type": "markdown",
   "id": "aced534e-0efe-40c9-9792-f98576e281c7",
   "metadata": {},
   "source": [
    "18. Write a Python program to remove all elements from a given list present in another \n",
    "list using lambda. \n",
    "Original lists: \n",
    "list1: [1, 2, 3, 4, 5, 6, 7, 8, 9, 10] \n",
    "list2: [2, 4, 6, 8] \n",
    "Remove all elements from 'list1' present in 'list2: \n",
    "[1, 3, 5, 7, 9, 10] "
   ]
  },
  {
   "cell_type": "code",
   "execution_count": 37,
   "id": "d9d8fbd3-10e5-454b-bc55-fb0afe2d3097",
   "metadata": {},
   "outputs": [
    {
     "data": {
      "text/plain": [
       "[1, 3, 5, 7, 9, 10]"
      ]
     },
     "execution_count": 37,
     "metadata": {},
     "output_type": "execute_result"
    }
   ],
   "source": [
    "list1 = [1, 2, 3, 4, 5, 6, 7, 8, 9, 10]\n",
    "list2 = [2, 4, 6, 8]\n",
    "filtered_list = list(filter(lambda x: x not in list2, list1))\n",
    "filtered_list"
   ]
  },
  {
   "cell_type": "markdown",
   "id": "9b1d8159-bd02-4bd0-b256-392ef78cc4a9",
   "metadata": {},
   "source": [
    " 19. Read the total marks of 5 students and convert it to the percentage. \n",
    " Filter the top 3 students percentage from above result  \n",
    " In the list of numbers from 1 to 20, replace multiples of 3 with \"Fizz\", multiples of \n",
    "5 with \"Buzz\", and multiples of both 3 and 5 with \"FizzBuzz\". Use the lambda \n",
    "function to get the task done \n",
    " Takes a list of numbers as input, computes the sum of the numbers, and prints the \n",
    "sum along with the average "
   ]
  },
  {
   "cell_type": "code",
   "execution_count": 41,
   "id": "cbf2ba4d-0a36-4a57-8327-cec02056350f",
   "metadata": {},
   "outputs": [
    {
     "name": "stdout",
     "output_type": "stream",
     "text": [
      "Top 3 percentages: [92, 90, 88]\n",
      "FizzBuzz output: [1, 2, 'Fizz', 4, 'Buzz', 'Fizz', 7, 8, 'Fizz', 'Buzz', 11, 'Fizz', 13, 14, 'FizzBuzz', 16, 17, 'Fizz', 19, 'Buzz']\n",
      "Enter numbers separated by spaces:\n",
      "Sum: 43\n",
      "Average: 43.0\n"
     ]
    }
   ],
   "source": [
    "marks = [85, 90, 78, 88, 92]\n",
    "percentages = list(map(lambda x: (x / 100) * 100, marks))\n",
    "top_3 = sorted(marks, reverse=True)[:3]\n",
    "print(\"Top 3 percentages:\", top_3)\n",
    "\n",
    "numbers = list(range(1, 21))\n",
    "fizzbuzz = list(map(lambda x: 'FizzBuzz' if x % 3 == 0 and x % 5 == 0 else ('Fizz' if x % 3 == 0 else ('Buzz' if x % 5 == 0 else x)), numbers))\n",
    "print(\"FizzBuzz output:\", fizzbuzz)\n",
    "\n",
    "def sum_and_average(lst):\n",
    "    total = sum(lst)\n",
    "    avg = total / len(lst) if len(lst) > 0 else 0\n",
    "    return total, avg\n",
    "\n",
    "print(\"Enter numbers separated by spaces:\")\n",
    "input_list = list(map(int, input().split()))\n",
    "total, avg = sum_and_average(input_list)\n",
    "print(\"Sum:\", total)\n",
    "print(\"Average:\", avg)\n"
   ]
  },
  {
   "cell_type": "markdown",
   "id": "d8cab386-c4bf-4907-bc93-1b142ac20e02",
   "metadata": {},
   "source": [
    "20. Write a Python program to count the occurrences of items in a given list using lambda. \n",
    "Original list: \n",
    "[3, 4, 5, 8, 0, 3, 8, 5, 0, 3, 1, 5, 2, 3, 4, 2] \n",
    "Count the occurrences of the items in the said list: \n",
    "{3: 4, 4: 2, 5: 3, 8: 2, 0: 2, 1: 1, 2: 2} "
   ]
  },
  {
   "cell_type": "code",
   "execution_count": 10,
   "id": "e95babb2-8109-4bf3-b9e8-c32d229bf0a6",
   "metadata": {},
   "outputs": [
    {
     "data": {
      "text/plain": [
       "{0: 2, 1: 1, 2: 2, 3: 4, 4: 2, 5: 3, 8: 2}"
      ]
     },
     "execution_count": 10,
     "metadata": {},
     "output_type": "execute_result"
    }
   ],
   "source": [
    "lst = [3, 4, 5, 8, 0, 3, 8, 5, 0, 3, 1, 5, 2, 3, 4, 2]\n",
    "occurrences = {i: lst.count(i) for i in set(lst)}\n",
    "occurrences"
   ]
  }
 ],
 "metadata": {
  "kernelspec": {
   "display_name": "Python 3",
   "language": "python",
   "name": "python3"
  },
  "language_info": {
   "codemirror_mode": {
    "name": "ipython",
    "version": 3
   },
   "file_extension": ".py",
   "mimetype": "text/x-python",
   "name": "python",
   "nbconvert_exporter": "python",
   "pygments_lexer": "ipython3",
   "version": "3.12.4"
  },
  "widgets": {
   "application/vnd.jupyter.widget-state+json": {
    "state": {},
    "version_major": 2,
    "version_minor": 0
   }
  }
 },
 "nbformat": 4,
 "nbformat_minor": 5
}
