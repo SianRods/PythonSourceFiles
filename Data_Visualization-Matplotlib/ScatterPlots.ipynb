{
 "cells": [
  {
   "cell_type": "markdown",
   "metadata": {},
   "source": [
    "## Scatter plots are great to analyse correlation betweenn any two quantities and also for outlier detection\n",
    "1. If there exists any correlation\n",
    "2. No correlation exists\n",
    "3. Strong Correlation exists \n",
    "4. Outlier Detection with respect to other data "
   ]
  },
  {
   "cell_type": "markdown",
   "metadata": {},
   "source": []
  }
 ],
 "metadata": {
  "language_info": {
   "name": "python"
  }
 },
 "nbformat": 4,
 "nbformat_minor": 2
}
