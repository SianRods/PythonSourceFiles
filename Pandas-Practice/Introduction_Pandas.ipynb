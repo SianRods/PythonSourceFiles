{
 "cells": [
  {
   "cell_type": "markdown",
   "id": "cd4b745e-1d72-4c7a-8be7-0e8371ea4254",
   "metadata": {},
   "source": [
    "# Introduction to Pandas as a Data Handling Framework\n",
    "1. Data Structures in Pandas \n",
    "2. Handling Data in Pandas \n",
    "3. Different Methods invovled "
   ]
  },
  {
   "cell_type": "code",
   "execution_count": 1,
   "id": "01978d2f",
   "metadata": {},
   "outputs": [],
   "source": [
    "import pandas as pd \n",
    "import numpy as np "
   ]
  },
  {
   "cell_type": "markdown",
   "id": "443c3920",
   "metadata": {},
   "source": [
    "**Series Framework in Pandas**"
   ]
  },
  {
   "cell_type": "code",
   "execution_count": 23,
   "id": "0482cf54-c228-4fe3-b090-cc21d7a3c2b0",
   "metadata": {},
   "outputs": [
    {
     "name": "stdout",
     "output_type": "stream",
     "text": [
      "0    9.75\n",
      "1    8.10\n",
      "2    7.22\n",
      "3    9.00\n",
      "4    8.90\n",
      "5    7.85\n",
      "dtype: float64\n"
     ]
    }
   ],
   "source": [
    "# It is just like a One-Dimensional Array which has values and associated with it is index array \n",
    "#  Index array can be manipulated to use our own labels or to start from a Specific Point \n",
    "# By Defualt it Starts from 0\n",
    "\n",
    "data = pd.Series([9.75,8.1,7.22,9,8.9,7.85])\n",
    "print(data)"
   ]
  },
  {
   "cell_type": "markdown",
   "id": "3bc9419c",
   "metadata": {},
   "source": [
    "**Index and Values Attributes in Series**"
   ]
  },
  {
   "cell_type": "code",
   "execution_count": 24,
   "id": "ed90ebd3",
   "metadata": {},
   "outputs": [
    {
     "name": "stdout",
     "output_type": "stream",
     "text": [
      "[9.75 8.1  7.22 9.   8.9  7.85]\n",
      "The Data Type of the data.values is : <class 'numpy.ndarray'>\n",
      "RangeIndex(start=0, stop=6, step=1)\n"
     ]
    }
   ],
   "source": [
    "# Values Attributes Shows the list of all the values in the given Series Object \n",
    "print(data.values)\n",
    "print(\"The Data Type of the data.values is :\",type(data.values))\n",
    "# Returns an nd Array\n",
    "print(data.index)"
   ]
  },
  {
   "cell_type": "markdown",
   "id": "78970932",
   "metadata": {},
   "source": [
    "**Using Labels for Indexing**"
   ]
  },
  {
   "cell_type": "code",
   "execution_count": 25,
   "id": "9dfb5642",
   "metadata": {},
   "outputs": [
    {
     "name": "stdout",
     "output_type": "stream",
     "text": [
      "Mark          9.75\n",
      "Lucifer       8.10\n",
      "Heisenberg    7.22\n",
      "Allen         9.00\n",
      "Neil          8.90\n",
      "Rubet         7.85\n",
      "dtype: float64\n",
      "Te SGPA of Mark is :  9.75\n",
      "<class 'numpy.float64'>\n",
      "The Grade for Lucifer is : 8.1\n",
      "<class 'numpy.float64'>\n",
      "Lucifer    8.10\n",
      "Mark       9.75\n",
      "Rubet      7.85\n",
      "dtype: float64\n",
      "<class 'pandas.core.series.Series'>\n"
     ]
    }
   ],
   "source": [
    "sdata=pd.Series(data.values,index=['Mark','Lucifer','Heisenberg','Allen','Neil','Rubet'])\n",
    "print(sdata)\n",
    "# We can Customize the Labels so that we can handle data as per our convenienece \n",
    "\n",
    "# Similar to Array Indexing data can fetched using the labels in place of indices \n",
    "# When Labels are Used we can't use the Integers for Indexing Purpose \n",
    "print(\"Te SGPA of Mark is : \",sdata['Mark'])\n",
    "print(type(sdata['Mark']))\n",
    "print(\"The Grade for Lucifer is :\",sdata['Lucifer'])\n",
    "print(type(sdata['Mark']))\n",
    "print(sdata[['Lucifer','Mark','Rubet']])\n",
    "print(type(sdata[['Lucifer','Mark','Rubet']]))\n",
    "\n",
    "# Note that When we pass Single Label data type of value is returned \n",
    "# But When we use list to access multiple Labels Series dtype is returned "
   ]
  },
  {
   "cell_type": "markdown",
   "id": "9787cdb3",
   "metadata": {},
   "source": [
    "**Filtering using Boolean , Scalar Multiplication,Math Functions Arithmetic Operations**"
   ]
  },
  {
   "cell_type": "code",
   "execution_count": 30,
   "id": "9a7d7f48",
   "metadata": {},
   "outputs": [
    {
     "name": "stdout",
     "output_type": "stream",
     "text": [
      "All the gpas above 8 pointers \n",
      " Mark       9.75\n",
      "Lucifer    8.10\n",
      "Allen      9.00\n",
      "Neil       8.90\n",
      "dtype: float64\n",
      "Normalizing Data on the Scale of 0-1 \n",
      " Mark          0.975\n",
      "Lucifer       0.810\n",
      "Heisenberg    0.722\n",
      "Allen         0.900\n",
      "Neil          0.890\n",
      "Rubet         0.785\n",
      "dtype: float64\n",
      "Mark          9.75\n",
      "Lucifer       8.10\n",
      "Heisenberg    7.22\n",
      "Allen         9.00\n",
      "Neil          8.90\n",
      "Rubet         7.85\n",
      "dtype: float64\n"
     ]
    }
   ],
   "source": [
    "# Note that performing the above on Series dtype presever the 'index-value' Link together \n",
    "\n",
    "print(\"All the gpas above 8 pointers \\n\",sdata[sdata>8.00]) # Filters out all the Seires \n",
    "print(\"Normalizing Data on the Scale of 0-1 \\n\",sdata/10)\n",
    "print(sdata)"
   ]
  },
  {
   "cell_type": "markdown",
   "id": "f281868d",
   "metadata": {},
   "source": [
    "**Structure of Data Stores in Series Format in Pandas**"
   ]
  },
  {
   "cell_type": "code",
   "execution_count": 48,
   "id": "553be9b1",
   "metadata": {},
   "outputs": [
    {
     "name": "stdout",
     "output_type": "stream",
     "text": [
      "India                      Delhi\n",
      "Japan                      Tokyo\n",
      "USA               Washington D.C\n",
      "China                     Bejing\n",
      "France                     Paris\n",
      "United Kingdon            London\n",
      "dtype: object\n",
      "Personalized Indexing to override key values order in dictionary : \n",
      " India              Delhi\n",
      "China             Bejing\n",
      "France             Paris\n",
      "United Kingdom       NaN\n",
      "Germany              NaN\n",
      "Sweden               NaN\n",
      "dtype: object\n"
     ]
    }
   ],
   "source": [
    "# To better understand how the Data is ACtually Stored in Seires \n",
    "# Dictionary is the best way to Understand it \n",
    "#  Each key corresponds to a index label \n",
    "#  Each  Value Corresponds to a Values in Series\n",
    "\n",
    "dict_={\n",
    "\t'India':'Delhi',\n",
    "\t'Japan':'Tokyo',\n",
    "\t\"USA\":'Washington D.C',\n",
    "\t'China':'Bejing',\n",
    "\t'France':'Paris',\n",
    "\t'United Kingdon':'London'\n",
    "}\n",
    "\n",
    "# Converting it to Pandas Series \n",
    "capitals=pd.Series(dict_)\n",
    "print(capitals)\n",
    "\n",
    "# Playing with indexes \n",
    "#  Filtering out data , Combining the Data can also be done using index Labels \n",
    "# When you are only passing a dict, the index in the resulting Series will have the dict’s\n",
    "#  keys in sorted order. You can override this by passing the dict keys in the order you\n",
    "#  want them to appear in the resulting Series:\n",
    "index_capitals=['India','China','France','United Kingdom','Germany','Sweden']\n",
    "capped_indexed_capitals=pd.Series(dict_,index=index_capitals)\n",
    "print(\"Personalized Indexing to override key values order in dictionary : \\n\",capped_indexed_capitals)\n",
    "\n",
    "# The NaN --> That the Index order passed had index which was not available as a Key in the Given \n",
    "# Dictionary\n",
    "\n",
    "# When Overiding the Key:values in dictionary using indexes the index not mentioned explicitly in the\n",
    "# index attribute won't be taken into Consideration in the Series  "
   ]
  },
  {
   "cell_type": "markdown",
   "id": "70aea7cb",
   "metadata": {},
   "source": [
    "***Using `inull()` & `notnull()` Functions in Pandas or onthe Series Object itself***"
   ]
  },
  {
   "cell_type": "code",
   "execution_count": 51,
   "id": "d19611fd",
   "metadata": {},
   "outputs": [
    {
     "name": "stdout",
     "output_type": "stream",
     "text": [
      "The Null Values in Series are as follows :  [False False False False False False]\n",
      "India             False\n",
      "China             False\n",
      "France            False\n",
      "United Kingdom     True\n",
      "Germany            True\n",
      "Sweden             True\n",
      "dtype: bool\n",
      "Using the NotNull Functions : \n",
      " India              True\n",
      "China              True\n",
      "France             True\n",
      "United Kingdom    False\n",
      "Germany           False\n",
      "Sweden            False\n",
      "dtype: bool\n"
     ]
    }
   ],
   "source": [
    "# Both isnull() and notnull() returns us Series object with dtype boolean\n",
    "# These methods can be used using Pandas or as a instance methods in Series\n",
    "print(\"The Null Values in Series are as follows : \",pd.isnull(index_capitals))\n",
    "print(capped_indexed_capitals.isnull())\n",
    "print(\"Using the NotNull Functions : \\n\",capped_indexed_capitals.notna())"
   ]
  },
  {
   "cell_type": "markdown",
   "id": "4a11b52b",
   "metadata": {},
   "source": [
    "**Alignment during operations by index Labels & The `name` Attribute in Pandas**"
   ]
  },
  {
   "cell_type": "code",
   "execution_count": 59,
   "id": "f391b38d",
   "metadata": {},
   "outputs": [
    {
     "name": "stdout",
     "output_type": "stream",
     "text": [
      "the given data shows : GDP of Countries Post Covid-19 \n",
      " Countries\n",
      "USA        3.40\n",
      "China      3.54\n",
      "Japan      0.90\n",
      "Germany    2.54\n",
      "India      0.30\n",
      "Brazil     0.50\n",
      "Name: GDP of Countries Post Covid-19, dtype: float64 \n",
      "\n",
      "the given data shows : Rate adjustment Post Covid -19 \n",
      " Countries\n",
      "USA        0.002300\n",
      "China      0.000054\n",
      "Japan      0.000210\n",
      "Germany    0.002000\n",
      "India      0.000030\n",
      "Brazil     0.000235\n",
      "Name: Rate adjustment Post Covid -19, dtype: float64 \n",
      "\n",
      "Countries\n",
      "USA        3.402300\n",
      "China      3.540054\n",
      "Japan      0.900210\n",
      "Germany    2.542000\n",
      "India      0.300030\n",
      "Brazil     0.500235\n",
      "dtype: float64\n"
     ]
    }
   ],
   "source": [
    "# Using seires we can automatically align data usign the index labels \n",
    "#  Creating two similar types of Series Data \n",
    "\n",
    "s1=pd.Series([3.4,3.54,0.9,2.54,0.3,0.5],index=['USA','China','Japan','Germany','India','Brazil'])\n",
    "s1.name=\"GDP of Countries Post Covid-19\"\n",
    "s1.index.name=\"Countries\"\n",
    "# Series related to some indexing parameters lets say adjustment rate overtime \n",
    "\n",
    "\n",
    "s2=pd.Series([0.0023,0.000054,0.00021,0.002,0.00003,0.000235],index=['USA','China','Japan','Germany','India','Brazil'])\n",
    "s2.name=\"Rate adjustment Post Covid -19\"\n",
    "s2.index.name=\"Countries\"\n",
    "# The name attribute is Associated with the Series.index (with the index of the Series)\n",
    "# Also the name attribute is Associated with Series as a Whole itself \n",
    "# Kind of Like More data explaining the given data \n",
    "\n",
    "print(f\"the given data shows : {s1.name} \\n {s1} \\n\")\n",
    "\n",
    "print(f\"the given data shows : {s2.name} \\n {s2} \\n\")\n",
    "\n",
    "# Now Both the Parameters can be combined by using the label for indexing to get\n",
    "# meaningful data for current scenario\n",
    "\n",
    "print(s1+s2)\n"
   ]
  }
 ],
 "metadata": {
  "kernelspec": {
   "display_name": "Python 3 (ipykernel)",
   "language": "python",
   "name": "python3"
  },
  "language_info": {
   "codemirror_mode": {
    "name": "ipython",
    "version": 3
   },
   "file_extension": ".py",
   "mimetype": "text/x-python",
   "name": "python",
   "nbconvert_exporter": "python",
   "pygments_lexer": "ipython3",
   "version": "3.12.4"
  },
  "widgets": {
   "application/vnd.jupyter.widget-state+json": {
    "state": {},
    "version_major": 2,
    "version_minor": 0
   }
  }
 },
 "nbformat": 4,
 "nbformat_minor": 5
}
