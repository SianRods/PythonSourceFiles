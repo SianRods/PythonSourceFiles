{
 "cells": [
  {
   "cell_type": "markdown",
   "metadata": {},
   "source": [
    "# Basics and use of Lamda Function in Python\n",
    "*Lambda is almost as same as defining a regular function. Because of that, and because the dynamic typing nature of Python, the type of the return value depends on what the function does* \\\n",
    "Syntax of Lamda function is like this : \n",
    "`func=lamda parameter:return_value`"
   ]
  },
  {
   "cell_type": "code",
   "execution_count": 20,
   "metadata": {},
   "outputs": [
    {
     "name": "stdout",
     "output_type": "stream",
     "text": [
      "[1, 2, 3, 4, 5, 6, 7, 8, 9, 10]\n"
     ]
    }
   ],
   "source": [
    "li=[x for x in range(1,11)]\n",
    "print(li)"
   ]
  },
  {
   "cell_type": "code",
   "execution_count": 22,
   "metadata": {},
   "outputs": [
    {
     "name": "stdout",
     "output_type": "stream",
     "text": [
      "[2, 4, 6, 8, 10, 12, 14, 16, 18, 20]\n"
     ]
    }
   ],
   "source": [
    "newListSquareFuncitons=lambda x : x*2 \n",
    "# Here we have to necessarily type cast the map() object\n",
    "li=list(map(newListSquareFuncitons,li))\n",
    "print(li)"
   ]
  },
  {
   "cell_type": "markdown",
   "metadata": {},
   "source": [
    "### Using `map()` and `filter()` methods on iterables \n",
    "1. With the help of map and filter functions combined with `lamda()` functions we can filter or map each and every element of an iterables object\n",
    "2. It is important to to note that both the functions map and filter returns object of type map and filter which should be typecasted into desired iterable --> `iterable(filter())` or `iterable(map())`"
   ]
  },
  {
   "cell_type": "code",
   "execution_count": 24,
   "metadata": {},
   "outputs": [
    {
     "name": "stdout",
     "output_type": "stream",
     "text": [
      "[324, 12, 32, -3, 42, -4, 24, -3]\n",
      "The new value of the sample list is :  [324, 12, 32, 42, 24]\n"
     ]
    }
   ],
   "source": [
    "sample=[324,12,32,-3,42,-4,24,-3]\n",
    "# Lets suppose that i want to remove all the negative numbers \n",
    "print(sample)\n",
    "sample=list(filter(lambda num : num>0,sample))\n",
    "print(\"The new value of the sample list is : \",sample)"
   ]
  },
  {
   "cell_type": "markdown",
   "metadata": {},
   "source": [
    "#### Note that lamda() functions can also be used within other functions "
   ]
  },
  {
   "cell_type": "code",
   "execution_count": 29,
   "metadata": {},
   "outputs": [
    {
     "name": "stdout",
     "output_type": "stream",
     "text": [
      "The Square of the number -2.123 is  <function numSquare.<locals>.<lambda> at 0x777988b69da0>\n"
     ]
    }
   ],
   "source": [
    "# Functions which returns square of every number passed to it \n",
    "def numSquare(x):\n",
    "    return lambda x: x**2\n",
    "\n",
    "print(\"The Square of the number -2.123 is \",numSquare(-2.123))"
   ]
  },
  {
   "cell_type": "code",
   "execution_count": null,
   "metadata": {},
   "outputs": [],
   "source": []
  }
 ],
 "metadata": {
  "kernelspec": {
   "display_name": "Python 3",
   "language": "python",
   "name": "python3"
  },
  "language_info": {
   "codemirror_mode": {
    "name": "ipython",
    "version": 3
   },
   "file_extension": ".py",
   "mimetype": "text/x-python",
   "name": "python",
   "nbconvert_exporter": "python",
   "pygments_lexer": "ipython3",
   "version": "3.12.3"
  }
 },
 "nbformat": 4,
 "nbformat_minor": 2
}
